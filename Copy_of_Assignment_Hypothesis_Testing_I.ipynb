{
  "nbformat": 4,
  "nbformat_minor": 0,
  "metadata": {
    "colab": {
      "provenance": [],
      "include_colab_link": true
    },
    "kernelspec": {
      "name": "python3",
      "display_name": "Python 3"
    }
  },
  "cells": [
    {
      "cell_type": "markdown",
      "metadata": {
        "id": "view-in-github",
        "colab_type": "text"
      },
      "source": [
        "<a href=\"https://colab.research.google.com/github/Sachinvt/Excel_project/blob/main/Copy_of_Assignment_Hypothesis_Testing_I.ipynb\" target=\"_parent\"><img src=\"https://colab.research.google.com/assets/colab-badge.svg\" alt=\"Open In Colab\"/></a>"
      ]
    },
    {
      "cell_type": "markdown",
      "metadata": {
        "id": "AioAG-n5U_6S"
      },
      "source": [
        "# <b> Write the steps and conclusions in the text cells. Use Python to calculate the probabilities. </b>"
      ]
    },
    {
      "cell_type": "markdown",
      "metadata": {
        "id": "Oq9OIkpjU3hr"
      },
      "source": [
        "# <b><u> Problem 1 </u> </b>\n",
        "\n",
        "## <b>The average IQ of a sample of 50 university students was found to be 105. Carry out a statistical test to determine whether the average IQ of university students is greater than 100, assuming that IQs are normally distributed. It is known from previous studies that the standard deviation of IQs among students is approximately 20. </b>"
      ]
    },
    {
      "cell_type": "markdown",
      "source": [
        "\n",
        "To test whether the average IQ of university students is greater than 100, I can perform a one-sample t-test. Here are the steps and conclusions:\n",
        "\n",
        "**Step 1: Define Hypotheses **\n",
        "\n",
        "Null Hypothesis (H0): The average IQ of university students is not greater than 100.\n",
        "Alternative Hypothesis (Ha): The average IQ of university students is greater than 100.\n",
        "\n",
        "**Step 2: Set Significance Level**\n",
        "\n",
        "Choose a significance level (α), which is the probability of making a Type I error. Common choices include 0.05 (5%) or 0.01 (1%). For this example, let's use α = 0.05.\n",
        "\n",
        "**Step 3: Collect Data**\n",
        "\n",
        "Given data:\n",
        "\n",
        "Sample mean (x̄) = 105\n",
        "Sample size (n) = 50\n",
        "Population standard deviation (σ) = 20\n",
        "Step 4: Calculate the Test Statistic\n",
        "\n",
        "In Python, you can calculate it as follows:"
      ],
      "metadata": {
        "id": "9sloRXkPjGq9"
      }
    },
    {
      "cell_type": "code",
      "metadata": {
        "id": "AP4U2uvyuxfa"
      },
      "source": [
        "import math\n",
        "from scipy import stats\n",
        "\n",
        "# Given data\n",
        "sample_mean = 105\n",
        "population_mean = 100\n",
        "sample_stddev = 20\n",
        "sample_size = 50\n",
        "\n",
        "# Calculate the test statistic\n",
        "t_statistic = (sample_mean - population_mean) / (sample_stddev / math.sqrt(sample_size))"
      ],
      "execution_count": null,
      "outputs": []
    },
    {
      "cell_type": "markdown",
      "source": [
        "###Step 5: Find the Critical Value\n",
        "\n",
        "Using the t-distribution table or a statistical calculator, find the critical t-value for a one-tailed test at the chosen significance level (α) and degrees of freedom (df = n - 1). For α = 0.05 and df = 49, you can find the critical value."
      ],
      "metadata": {
        "id": "x0PGARc7jx9T"
      }
    },
    {
      "cell_type": "code",
      "source": [
        "# Calculate the critical t-value\n",
        "alpha = 0.05\n",
        "df = sample_size - 1\n",
        "critical_t_value = stats.t.ppf(1 - alpha, df)"
      ],
      "metadata": {
        "id": "3Yeqr0l-js_c"
      },
      "execution_count": null,
      "outputs": []
    },
    {
      "cell_type": "markdown",
      "source": [
        "Step 6: Compare the Test Statistic and Critical Value\n",
        "\n",
        "If the test statistic > critical t-value, reject the null hypothesis (H0).\n",
        "If the test statistic ≤ critical t-value, fail to reject the null hypothesis (H0)."
      ],
      "metadata": {
        "id": "lmdO347Ij7oG"
      }
    },
    {
      "cell_type": "code",
      "source": [
        "# Compare the test statistic and critical t-value\n",
        "if t_statistic > critical_t_value:\n",
        "    conclusion = \"Reject H0: The average IQ of university students is greater than 100.\"\n",
        "else:\n",
        "    conclusion = \"Fail to reject H0: There is not enough evidence to conclude that the average IQ is greater than 100.\"\n",
        "\n",
        "# Print the conclusion\n",
        "print(conclusion)"
      ],
      "metadata": {
        "id": "jdg5wuDGj3fB",
        "outputId": "553ef6a8-e436-4154-dc6d-a669a0861b48",
        "colab": {
          "base_uri": "https://localhost:8080/"
        }
      },
      "execution_count": null,
      "outputs": [
        {
          "output_type": "stream",
          "name": "stdout",
          "text": [
            "Reject H0: The average IQ of university students is greater than 100.\n"
          ]
        }
      ]
    },
    {
      "cell_type": "markdown",
      "metadata": {
        "id": "1ECG-HvyQ01v"
      },
      "source": [
        "# <b><u> Problem 2 </u> </b>\n",
        "\n",
        "## <b>Carry out a statistical test to assess whether the standard deviation of the heights of 10- year-old children is equal to 3cm, based on the random sample of 5 heights in cm given below. Assume that heights are normally distributed.\n",
        "\n",
        "## 124, 122, 130, 125, 132 </b>"
      ]
    },
    {
      "cell_type": "markdown",
      "source": [
        "Step 1: Define Hypotheses\n",
        "\n",
        "Null Hypothesis (H0): The standard deviation of the heights is equal to 3 cm (σ² = 3² = 9).\n",
        "Alternative Hypothesis (Ha): The standard deviation of the heights is not equal to 3 cm (σ² ≠ 9).\n",
        "Step 2: Set Significance Level\n",
        "\n",
        "Choose a significance level (α), which is the probability of making a Type I error. Common choices include 0.05 (5%) or 0.01 (1%). For this example, let's use α = 0.05.\n",
        "\n",
        "Step 3: Collect Data\n",
        "\n",
        "Given data (sample heights in cm):\n",
        "124, 122, 130, 125, 132\n",
        "\n",
        "Step 4: Calculate the Test Statistic\n",
        "\n",
        "The chi-squared (χ²) test statistic for testing the variance is calculated\n",
        "In Python, you can calculate it as follows:"
      ],
      "metadata": {
        "id": "mI52O-j8n3SP"
      }
    },
    {
      "cell_type": "code",
      "metadata": {
        "id": "1UvGljccpyD6"
      },
      "source": [
        "import numpy as np\n",
        "from scipy import stats\n",
        "\n",
        "# Given data\n",
        "sample_heights = [124, 122, 130, 125, 132]\n",
        "population_variance_hypothesis = 9  # σ² = 9\n",
        "\n",
        "# Calculate sample variance\n",
        "sample_variance = np.var(sample_heights, ddof=1)\n",
        "\n",
        "# Calculate the test statistic\n",
        "sample_size = len(sample_heights)\n",
        "test_statistic = ((sample_size - 1) * sample_variance) / population_variance_hypothesis"
      ],
      "execution_count": null,
      "outputs": []
    },
    {
      "cell_type": "code",
      "source": [
        "# Calculate the critical chi-squared value\n",
        "alpha = 0.05\n",
        "df = sample_size - 1\n",
        "critical_chi_squared_value = stats.chi2.ppf(1 - alpha / 2, df)  # Divided by 2 for a two-tailed test"
      ],
      "metadata": {
        "id": "gjoaZU0goZo6"
      },
      "execution_count": null,
      "outputs": []
    },
    {
      "cell_type": "code",
      "source": [
        "# Compare the test statistic with critical chi-squared values\n",
        "if test_statistic < stats.chi2.ppf(alpha / 2, df) or test_statistic > stats.chi2.ppf(1 - alpha / 2, df):\n",
        "    conclusion = \"Reject H0: The standard deviation of heights is not equal to 3 cm.\"\n",
        "else:\n",
        "    conclusion = \"Fail to reject H0: There is not enough evidence to conclude that the standard deviation is different from 3 cm.\"\n",
        "\n",
        "# Print the conclusion\n",
        "print(conclusion)"
      ],
      "metadata": {
        "id": "HLUh5mDCoejk",
        "outputId": "03f190dc-d0af-4645-ba15-688e9bec0d7e",
        "colab": {
          "base_uri": "https://localhost:8080/"
        }
      },
      "execution_count": null,
      "outputs": [
        {
          "output_type": "stream",
          "name": "stdout",
          "text": [
            "Fail to reject H0: There is not enough evidence to conclude that the standard deviation is different from 3 cm.\n"
          ]
        }
      ]
    },
    {
      "cell_type": "markdown",
      "metadata": {
        "id": "jzEBNOS-uCs9"
      },
      "source": [
        "# <b><u> Problem 3 </u> </b>\n",
        "\n",
        "## <b>In a one-year mortality investigation, 45 of the 250 ninety-year-olds present at the start of the investigation died before the end of the year. Assuming that the number of deaths has a Bin(250,q) distribution, test whether this result is consistent with a mortality rate of q = 0.2 for this age. </b>"
      ]
    },
    {
      "cell_type": "code",
      "metadata": {
        "id": "5hGK8F3huD09"
      },
      "source": [
        "from scipy.stats import binom\n",
        "\n",
        "# Given data\n",
        "n = 250\n",
        "x = 45\n",
        "q = 0.2\n",
        "\n",
        "# Calculate the binomial probability\n",
        "p = binom.pmf(x, n, q)"
      ],
      "execution_count": null,
      "outputs": []
    },
    {
      "cell_type": "code",
      "source": [
        "alpha = 0.05\n",
        "critical_value_lower = binom.ppf(alpha / 2, n, q)\n",
        "critical_value_upper = binom.ppf(1 - alpha / 2, n, q)"
      ],
      "metadata": {
        "id": "W6psvVctoz77"
      },
      "execution_count": null,
      "outputs": []
    },
    {
      "cell_type": "code",
      "source": [
        "# Compare the test statistic with critical values\n",
        "if x < critical_value_lower or x > critical_value_upper:\n",
        "    conclusion = \"Reject H0: The mortality rate is not consistent with q = 0.2.\"\n",
        "else:\n",
        "    conclusion = \"Fail to reject H0: The mortality rate is consistent with q = 0.2.\"\n",
        "\n",
        "# Print the conclusion\n",
        "print(conclusion)"
      ],
      "metadata": {
        "id": "s1241p6zo2O5",
        "outputId": "bbe20290-6c5b-491c-c3f9-e433c9caedd5",
        "colab": {
          "base_uri": "https://localhost:8080/"
        }
      },
      "execution_count": null,
      "outputs": [
        {
          "output_type": "stream",
          "name": "stdout",
          "text": [
            "Fail to reject H0: The mortality rate is consistent with q = 0.2.\n"
          ]
        }
      ]
    },
    {
      "cell_type": "markdown",
      "metadata": {
        "id": "0X0lO-ciujvE"
      },
      "source": [
        "# <b><u> Problem 4 </u> </b>\n",
        "\n",
        "## <b>A new gene has been identified that makes carriers particularly susceptible to a particular degenerative disease. In a random sample of 250 adult males born in the UK, 8 were found to be carriers of the disease. Test whether the proportion of adult males born in the UK carrying the gene is less than 10%. </b>\n",
        "\n"
      ]
    },
    {
      "cell_type": "code",
      "source": [
        "import math\n",
        "\n",
        "# Given data\n",
        "n = 250\n",
        "x = 8\n",
        "p0 = 0.10\n",
        "\n",
        "# Calculate the sample proportion\n",
        "sample_proportion = x / n\n",
        "\n",
        "# Calculate the test statistic\n",
        "test_statistic = (sample_proportion - p0) / math.sqrt((p0 * (1 - p0)) / n)"
      ],
      "metadata": {
        "id": "0OmMyUbKox8K"
      },
      "execution_count": null,
      "outputs": []
    },
    {
      "cell_type": "code",
      "source": [
        "from scipy.stats import norm\n",
        "\n",
        "alpha = 0.05\n",
        "critical_value = norm.ppf(alpha)"
      ],
      "metadata": {
        "id": "MCUM49E8pGrR"
      },
      "execution_count": null,
      "outputs": []
    },
    {
      "cell_type": "code",
      "metadata": {
        "id": "wKi95lFput9x",
        "outputId": "aa1e28db-2b87-45f8-dd69-886984ff9e80",
        "colab": {
          "base_uri": "https://localhost:8080/"
        }
      },
      "source": [
        "# Compare the test statistic and critical value\n",
        "if test_statistic < critical_value:\n",
        "    conclusion = \"Reject H0: The proportion of carriers is less than 10%.\"\n",
        "else:\n",
        "    conclusion = \"Fail to reject H0: There is not enough evidence to conclude that the proportion is less than 10%.\"\n",
        "\n",
        "# Print the conclusion\n",
        "print(conclusion)"
      ],
      "execution_count": null,
      "outputs": [
        {
          "output_type": "stream",
          "name": "stdout",
          "text": [
            "Reject H0: The proportion of carriers is less than 10%.\n"
          ]
        }
      ]
    }
  ]
}