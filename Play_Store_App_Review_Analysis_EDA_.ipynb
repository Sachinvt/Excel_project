{
  "nbformat": 4,
  "nbformat_minor": 0,
  "metadata": {
    "colab": {
      "private_outputs": true,
      "provenance": [],
      "collapsed_sections": [
        "vncDsAP0Gaoa",
        "FJNUwmbgGyua",
        "w6K7xa23Elo4",
        "yQaldy8SH6Dl",
        "PH-0ReGfmX4f",
        "mDgbUHAGgjLW",
        "O_i_v8NEhb9l",
        "HhfV-JJviCcP",
        "Y3lxredqlCYt",
        "3RnN4peoiCZX",
        "x71ZqKXriCWQ",
        "7hBIi_osiCS2",
        "JlHwYmJAmNHm",
        "35m5QtbWiB9F",
        "PoPl-ycgm1ru",
        "H0kj-8xxnORC",
        "nA9Y7ga8ng1Z",
        "PBTbrJXOngz2",
        "u3PMJOP6ngxN",
        "dauF4eBmngu3",
        "bKJF3rekwFvQ",
        "MSa1f5Uengrz",
        "GF8Ens_Soomf",
        "0wOQAZs5pc--",
        "K5QZ13OEpz2H",
        "lQ7QKXXCp7Bj",
        "448CDAPjqfQr",
        "KSlN3yHqYklG",
        "t6dVpIINYklI",
        "ijmpgYnKYklI",
        "-JiQyfWJYklI",
        "EM7whBJCYoAo",
        "fge-S5ZAYoAp",
        "85gYPyotYoAp",
        "RoGjAbkUYoAp",
        "4Of9eVA-YrdM",
        "iky9q4vBYrdO",
        "F6T5p64dYrdO",
        "y-Ehk30pYrdP",
        "bamQiAODYuh1",
        "QHF8YVU7Yuh3",
        "GwzvFGzlYuh3",
        "qYpmQ266Yuh3",
        "OH-pJp9IphqM",
        "bbFf2-_FphqN",
        "_ouA3fa0phqN",
        "Seke61FWphqN",
        "PIIx-8_IphqN",
        "t27r6nlMphqO",
        "r2jJGEOYphqO",
        "b0JNsNcRphqO",
        "BZR9WyysphqO",
        "jj7wYXLtphqO",
        "eZrbJ2SmphqO",
        "rFu4xreNphqO",
        "YJ55k-q6phqO",
        "gCFgpxoyphqP",
        "OVtJsKN_phqQ",
        "lssrdh5qphqQ",
        "U2RJ9gkRphqQ",
        "1M8mcRywphqQ",
        "tgIPom80phqQ",
        "JMzcOPDDphqR",
        "x-EpHcCOp1ci",
        "X_VqEhTip1ck",
        "8zGJKyg5p1ck",
        "PVzmfK_Ep1ck",
        "n3dbpmDWp1ck",
        "ylSl6qgtp1ck",
        "ZWILFDl5p1ck",
        "M7G43BXep1ck",
        "Ag9LCva-p1cl",
        "E6MkPsBcp1cl",
        "2cELzS2fp1cl",
        "3MPXvC8up1cl",
        "NC_X3p0fY2L0",
        "UV0SzAkaZNRQ",
        "YPEH6qLeZNRQ",
        "q29F0dvdveiT",
        "EXh0U9oCveiU",
        "22aHeOlLveiV",
        "JcMwzZxoAimU",
        "8G2x9gOozGDZ",
        "gCX9965dhzqZ",
        "gIfDvo9L0UH2"
      ],
      "include_colab_link": true
    },
    "kernelspec": {
      "name": "python3",
      "display_name": "Python 3"
    },
    "language_info": {
      "name": "python"
    }
  },
  "cells": [
    {
      "cell_type": "markdown",
      "metadata": {
        "id": "view-in-github",
        "colab_type": "text"
      },
      "source": [
        "<a href=\"https://colab.research.google.com/github/Sachinvt/Excel_project/blob/main/Play_Store_App_Review_Analysis_EDA_.ipynb\" target=\"_parent\"><img src=\"https://colab.research.google.com/assets/colab-badge.svg\" alt=\"Open In Colab\"/></a>"
      ]
    },
    {
      "cell_type": "markdown",
      "source": [
        "# **Project Name**    - EDA_Play Store App Review Analysis\n",
        "\n"
      ],
      "metadata": {
        "id": "vncDsAP0Gaoa"
      }
    },
    {
      "cell_type": "markdown",
      "source": [
        "##### **Project Type**    - EDA\n",
        "##### **Contribution**    - Individual\n",
        "##### **Name**            - Sachin Thorat"
      ],
      "metadata": {
        "id": "beRrZCGUAJYm"
      }
    },
    {
      "cell_type": "markdown",
      "source": [
        "# **Project Summary -**"
      ],
      "metadata": {
        "id": "FJNUwmbgGyua"
      }
    },
    {
      "cell_type": "markdown",
      "source": [
        "In the fiercely competitive Android app marketplace, the pursuit of success is a challenging endeavor. To equip app developers with the knowledge and strategies needed to thrive, this project sets out to explore the Android app ecosystem through the lens of data analysis. With access to two vital datasets—the Play Store app data and customer reviews—we aim to uncover the pivotal factors driving app engagement and success. Our data-driven approach, executed through a well-defined project architecture, holds the promise of delivering actionable insights that can revolutionize the way developers approach app creation and marketing.\n",
        "\n",
        "Our project hinges on the exploitation of two primary datasets. The Play Store app data provides a comprehensive profile of each app, including category, rating, size, and other attributes. This information is a treasure trove for discerning trends in the Android app landscape. Additionally, the customer reviews dataset offers an invaluable collection of user feedback. These reviews serve as a direct window into the minds of Android users, offering opinions and insights that are crucial in understanding their preferences and sentiments.In order to draw meaningful insights from this data we need to perform exploratory data analysis(EDA)."
      ],
      "metadata": {
        "id": "F6v_1wHtG2nS"
      }
    },
    {
      "cell_type": "markdown",
      "source": [
        "# **GitHub Link -**"
      ],
      "metadata": {
        "id": "w6K7xa23Elo4"
      }
    },
    {
      "cell_type": "markdown",
      "source": [
        "Provide your GitHub Link here."
      ],
      "metadata": {
        "id": "h1o69JH3Eqqn"
      }
    },
    {
      "cell_type": "markdown",
      "source": [
        "# **Problem Statement**\n"
      ],
      "metadata": {
        "id": "yQaldy8SH6Dl"
      }
    },
    {
      "cell_type": "markdown",
      "source": [
        "In this data analysis project, our primary objective is to gain a deep understanding of the Play Store app ecosystem and provide actionable insights to app developers. We'll investigate various aspects of the Play Store data to answer key questions and address important issues. Here's a concise summary of the problem statement and the main areas of focus:\n",
        "\n",
        "**Top Categories on Play Store:**\n",
        "We aim to identify and list the most popular app categories based on factors such as the number of apps and user installations.\n",
        "\n",
        "**Free vs. Paid Apps:**\n",
        "We'll determine the distribution of free and paid apps in the Play Store to understand the monetization strategies adopted by developers.\n",
        "\n",
        "**Importance of App Ratings:**\n",
        "We'll analyze how app ratings influence user engagement and success, helping developers prioritize this crucial aspect.\n",
        "\n",
        "**Choosing App Categories:**\n",
        "We'll recommend the ideal app categories for developers, considering factors such as competition, user demand, and growth potential.\n",
        "\n",
        "**Installations by Category:**\n",
        "We'll identify the app category with the highest number of installations, offering insights into user preferences.\n",
        "\n",
        "**App Count by Genres:**\n",
        "We'll examine the variation in the number of apps across different genres to understand genre-specific app development trends.\n",
        "\n",
        "**Last Update vs. Rating:**\n",
        "We'll explore the relationship between the last update date of apps and their user ratings to assess the importance of app updates.\n",
        "\n",
        "**Paid App Impact on Ratings:**\n",
        "We'll determine how the paid status of apps affects user ratings and whether users are willing to pay for higher-rated apps.\n",
        "\n",
        "**Reviews and Ratings Correlation:**\n",
        "We'll investigate the correlation between user reviews and app ratings to assess the impact of user feedback on app success.\n",
        "\n",
        "**Sentiment Analysis:**\n",
        "We'll delve into user sentiment analysis to understand the emotional context of reviews and their subjectivity.\n",
        "\n",
        "**Subjectivity and Polarity:**\n",
        "We'll explore the relationship between subjectivity and polarity in user reviews to determine whether they are proportional.\n",
        "\n",
        "**Percentage of Review Sentiments:**\n",
        "We'll provide insights into the distribution of different sentiment types in user reviews and their percentages.\n",
        "\n",
        "**Sentiment Polarity for Paid vs. Free Apps:**\n",
        "We'll assess how sentiment polarity varies between paid and free apps and whether users have different sentiments based on payment.\n",
        "\n",
        "**Content Rating Influence:**\n",
        "We'll analyze how content rating (e.g., \"Everyone,\" \"Mature 17+\") affects app success and user engagement.\n",
        "\n",
        "**Last Update Date Impact:**\n",
        "We'll determine whether the date of the last app update has an effect on user ratings and engagement.\n",
        "\n",
        "**Distribution of App Updates:**\n",
        "We'll visualize the distribution of app updates throughout the year to identify trends in update frequency.\n",
        "\n",
        "**Paid vs. Free App Updates:**\n",
        "We'll examine how paid and free apps differ in their update schedules over the course of a year.\n",
        "\n",
        "By addressing these key questions and conducting a comprehensive analysis, this project aims to provide app developers with actionable insights for making informed decisions in a highly competitive Play Store ecosystem. The results will help developers choose the right categories, pricing models, and update strategies, leading to improved user engagement and app success."
      ],
      "metadata": {
        "id": "DpeJGUA3kjGy"
      }
    },
    {
      "cell_type": "markdown",
      "source": [
        "#### **Define Your Business Objective?**"
      ],
      "metadata": {
        "id": "PH-0ReGfmX4f"
      }
    },
    {
      "cell_type": "markdown",
      "source": [
        "**The Play Store app data holds vast potential for empowering app developers to achieve success in the Android market. By harnessing this valuable dataset, actionable insights can be extracted to guide developers in creating and marketing apps that resonate with Android users. These insights offer a strategic advantage, enabling developers to capture a larger share of the Android app market and enhance the competitiveness and effectiveness of their offerings.**"
      ],
      "metadata": {
        "id": "QQ4kf-N6iHcD"
      }
    },
    {
      "cell_type": "markdown",
      "source": [
        "These suggested business objectives are tailored to the specific questions and areas of focus you outlined. Implementing these objectives can help app developers make data-driven decisions to improve app success and user engagement within the Play Store ecosystem."
      ],
      "metadata": {
        "id": "PhDvGCAqmjP1"
      }
    },
    {
      "cell_type": "markdown",
      "source": [
        "# **General Guidelines** : -  "
      ],
      "metadata": {
        "id": "mDgbUHAGgjLW"
      }
    },
    {
      "cell_type": "markdown",
      "source": [
        "1.   Well-structured, formatted, and commented code is required.\n",
        "2.   Exception Handling, Production Grade Code & Deployment Ready Code will be a plus. Those students will be awarded some additional credits.\n",
        "     \n",
        "     The additional credits will have advantages over other students during Star Student selection.\n",
        "       \n",
        "             [ Note: - Deployment Ready Code is defined as, the whole .ipynb notebook should be executable in one go\n",
        "                       without a single error logged. ]\n",
        "\n",
        "3.   Each and every logic should have proper comments.\n",
        "4. You may add as many number of charts you want. Make Sure for each and every chart the following format should be answered.\n",
        "        \n",
        "\n",
        "```\n",
        "# Chart visualization code\n",
        "```\n",
        "            \n",
        "\n",
        "*   Why did you pick the specific chart?\n",
        "*   What is/are the insight(s) found from the chart?\n",
        "* Will the gained insights help creating a positive business impact?\n",
        "Are there any insights that lead to negative growth? Justify with specific reason.\n",
        "\n",
        "5. You have to create at least 20 logical & meaningful charts having important insights.\n",
        "\n",
        "\n",
        "[ Hints : - Do the Vizualization in  a structured way while following \"UBM\" Rule.\n",
        "\n",
        "U - Univariate Analysis,\n",
        "\n",
        "B - Bivariate Analysis (Numerical - Categorical, Numerical - Numerical, Categorical - Categorical)\n",
        "\n",
        "M - Multivariate Analysis\n",
        " ]\n",
        "\n",
        "\n",
        "\n"
      ],
      "metadata": {
        "id": "ZrxVaUj-hHfC"
      }
    },
    {
      "cell_type": "markdown",
      "source": [
        "# ***Let's Begin !***"
      ],
      "metadata": {
        "id": "O_i_v8NEhb9l"
      }
    },
    {
      "cell_type": "markdown",
      "source": [
        "## ***1. Know Your Data***"
      ],
      "metadata": {
        "id": "HhfV-JJviCcP"
      }
    },
    {
      "cell_type": "markdown",
      "source": [
        "### Import Libraries"
      ],
      "metadata": {
        "id": "Y3lxredqlCYt"
      }
    },
    {
      "cell_type": "code",
      "source": [
        "# Import Libraries\n",
        "from ast import increment_lineno\n",
        "import numpy as np\n",
        "import pandas as pd\n",
        "import matplotlib.pyplot as plt\n",
        "import seaborn as sns\n",
        "%matplotlib inline\n",
        "import warnings\n",
        "#sns.set(font_scale=1.5)\n",
        "warnings.filterwarnings(\"ignore\")"
      ],
      "metadata": {
        "id": "M8Vqi-pPk-HR"
      },
      "execution_count": null,
      "outputs": []
    },
    {
      "cell_type": "markdown",
      "source": [
        "### Dataset Loading"
      ],
      "metadata": {
        "id": "3RnN4peoiCZX"
      }
    },
    {
      "cell_type": "code",
      "source": [
        "# Load Dataset\n",
        "#mount google drive\n",
        "from google.colab import drive\n",
        "drive.mount('/content/drive')"
      ],
      "metadata": {
        "id": "4CkvbW_SlZ_R"
      },
      "execution_count": null,
      "outputs": []
    },
    {
      "cell_type": "code",
      "source": [
        "#reading csv file-1\n",
        "working_dir_path=\"/content/drive/MyDrive/Play Store Data.csv\"\n",
        "ps_df=pd.read_csv(working_dir_path)"
      ],
      "metadata": {
        "id": "GUCgpsXj9APk"
      },
      "execution_count": null,
      "outputs": []
    },
    {
      "cell_type": "code",
      "source": [
        "#reading csv file-2\n",
        "working_dir_path2=\"/content/drive/MyDrive/User Reviews.csv\"\n",
        "ps_df2=pd.read_csv(working_dir_path2)"
      ],
      "metadata": {
        "id": "UulTOiYB9BXL"
      },
      "execution_count": null,
      "outputs": []
    },
    {
      "cell_type": "markdown",
      "source": [
        "### Dataset First View"
      ],
      "metadata": {
        "id": "x71ZqKXriCWQ"
      }
    },
    {
      "cell_type": "code",
      "source": [
        "# Dataset First Look\n",
        "#Showing top five rows of play store data\n",
        "ps_df.head()"
      ],
      "metadata": {
        "id": "LWNFOSvLl09H"
      },
      "execution_count": null,
      "outputs": []
    },
    {
      "cell_type": "code",
      "source": [
        "# Showing Last five rows of play store data\n",
        "ps_df.tail()"
      ],
      "metadata": {
        "id": "oiDGUrpj_e0q"
      },
      "execution_count": null,
      "outputs": []
    },
    {
      "cell_type": "code",
      "source": [
        "# Showing Unique values of Install column\n",
        "ps_df[\"Installs\"].unique()"
      ],
      "metadata": {
        "id": "kKus2NMz_jBw"
      },
      "execution_count": null,
      "outputs": []
    },
    {
      "cell_type": "code",
      "source": [
        "# Showing first five rows of User reviews data\n",
        "ps_df2.head()"
      ],
      "metadata": {
        "id": "iRd2-m51Agvo"
      },
      "execution_count": null,
      "outputs": []
    },
    {
      "cell_type": "code",
      "source": [
        "# Showing Last five rows of User reviews data\n",
        "ps_df2.tail()"
      ],
      "metadata": {
        "id": "8bvRSpPSAyD7"
      },
      "execution_count": null,
      "outputs": []
    },
    {
      "cell_type": "markdown",
      "source": [
        "### Dataset Rows & Columns count"
      ],
      "metadata": {
        "id": "7hBIi_osiCS2"
      }
    },
    {
      "cell_type": "code",
      "source": [
        "# Dataset Rows & Columns count\n",
        "# Get the Dimension of Play store dataframe\n",
        "ps_df.shape"
      ],
      "metadata": {
        "id": "Kllu7SJgmLij"
      },
      "execution_count": null,
      "outputs": []
    },
    {
      "cell_type": "markdown",
      "source": [
        "**In play store data we have total 10841 rows and 13 columns**"
      ],
      "metadata": {
        "id": "CQzAbotNAHc6"
      }
    },
    {
      "cell_type": "code",
      "source": [
        "# Get the dimension of user reviews dataframe\n",
        "ps_df2.shape"
      ],
      "metadata": {
        "id": "S3aW23L6BurW"
      },
      "execution_count": null,
      "outputs": []
    },
    {
      "cell_type": "markdown",
      "source": [
        "**In User reviews dataframe we have 64295 rows and 5 columns**"
      ],
      "metadata": {
        "id": "Z7v4hK-1Bzpr"
      }
    },
    {
      "cell_type": "markdown",
      "source": [
        "### Dataset Information"
      ],
      "metadata": {
        "id": "JlHwYmJAmNHm"
      }
    },
    {
      "cell_type": "code",
      "source": [
        "# Dataset Info\n",
        "#  Use the 'info()' method to obtain a summary of DataFrame 'ps_df'\n",
        "ps_df.info()"
      ],
      "metadata": {
        "id": "e9hRXRi6meOf"
      },
      "execution_count": null,
      "outputs": []
    },
    {
      "cell_type": "code",
      "source": [
        "# Utilize the 'describe()' method to generate a statistical summary of the DataFrame 'ps_df'.\n",
        "# This summary includes measures such as count, mean, standard deviation, minimum, quartiles, and maximum for each numeric column\n",
        "ps_df.describe(include= \"all\")"
      ],
      "metadata": {
        "id": "8KlR0U-CDA2h"
      },
      "execution_count": null,
      "outputs": []
    },
    {
      "cell_type": "markdown",
      "source": [
        "**In Rating column variable there are some rating value above 5 which might have to be address.**"
      ],
      "metadata": {
        "id": "bN0m8OksD0bR"
      }
    },
    {
      "cell_type": "code",
      "source": [
        "# Apply the 'info()' method to obtain an overview of the DataFrame 'pd_df2.'\n",
        "# This summary includes data type information, non-null counts, and memory usage for each column in the DataFrame.\n",
        "ps_df2.info()"
      ],
      "metadata": {
        "id": "XEZzqon-Dxlp"
      },
      "execution_count": null,
      "outputs": []
    },
    {
      "cell_type": "code",
      "source": [
        "ps_df2.describe(include = \"all\")"
      ],
      "metadata": {
        "id": "IwCRbWeaEmAD"
      },
      "execution_count": null,
      "outputs": []
    },
    {
      "cell_type": "markdown",
      "source": [
        "#### Duplicate Values"
      ],
      "metadata": {
        "id": "35m5QtbWiB9F"
      }
    },
    {
      "cell_type": "code",
      "source": [
        "# Dataset Duplicate Value Count\n",
        "# Count the number of duplicate rows in the DataFrame 'ps_df' while considering all instances of duplicates.\n",
        "# This code filters the DataFrame to retain only the duplicate rows and then counts them.\n",
        "ps_df[ps_df.duplicated(keep=False)].count()"
      ],
      "metadata": {
        "id": "1sLdpKYkmox0"
      },
      "execution_count": null,
      "outputs": []
    },
    {
      "cell_type": "code",
      "source": [
        "# Count the number of duplicate rows in the Dataframe 'ps_df2' while considering all intances of duplicates\n",
        "ps_df2[ps_df2.duplicated(keep=False)].count()"
      ],
      "metadata": {
        "id": "vTg7ENt9QSHB"
      },
      "execution_count": null,
      "outputs": []
    },
    {
      "cell_type": "code",
      "source": [
        "# Remove duplicate rows from the DataFrame 'ps_df' and update 'ps_df' with the unique rows.\n",
        "# The 'drop_duplicates()' method eliminates rows with identical values across all columns, keeping only the first occurrence.\n",
        "ps_df = ps_df.drop_duplicates()\n",
        "ps_df.shape"
      ],
      "metadata": {
        "id": "XSulDBC6QuUx"
      },
      "execution_count": null,
      "outputs": []
    },
    {
      "cell_type": "code",
      "source": [
        "ps_df2 = ps_df2.drop_duplicates()\n",
        "ps_df2.shape"
      ],
      "metadata": {
        "id": "nddITNwjUXyI"
      },
      "execution_count": null,
      "outputs": []
    },
    {
      "cell_type": "markdown",
      "source": [
        "#### Missing Values/Null Values"
      ],
      "metadata": {
        "id": "PoPl-ycgm1ru"
      }
    },
    {
      "cell_type": "code",
      "source": [
        "# Missing Values/Null Values Count\n",
        "# This user define function will give the type,count of null and non null values as well as null ratio\n",
        "def playstoreinfo():\n",
        "  temp=pd.DataFrame(index=ps_df.columns)\n",
        "  temp[\"datatype\"]=ps_df.dtypes\n",
        "  temp[\"not null values\"]=ps_df.count()\n",
        "  temp[\"null value\"]=ps_df.isnull().sum()\n",
        "  temp[\"% of the null value\"]=ps_df.isnull().mean()\n",
        "  temp[\"unique count\"]=ps_df.nunique()\n",
        "  return temp\n",
        "playstoreinfo()"
      ],
      "metadata": {
        "id": "GgHWkxvamxVg"
      },
      "execution_count": null,
      "outputs": []
    },
    {
      "cell_type": "markdown",
      "source": [
        "**Findings**\n",
        "\n",
        "Rating has 1474 null values which contributes 14.14% of the data. Type has 1 null value which contributes 0.01% of the data. Content_Rating has 1 null value which contributes 0.01% of the data. Current_Ver has 8 null values which contributes 0.07% of the data. Android_Ver has 3 null values which contributes 0.03% of the data.\n",
        "\n",
        "Lets first deal with the columns which contains lesser number of NaN values. By going through the NaN values, we must come up with a way to replace them with non NaN values or we need to come up with a reason for having NaN."
      ],
      "metadata": {
        "id": "aSE6t0vhmIUZ"
      }
    },
    {
      "cell_type": "code",
      "source": [
        "# The rows containing NaN values in the Android Ver column\n",
        "ps_df[ps_df[\"Android Ver\"].isnull()]"
      ],
      "metadata": {
        "id": "godofou1nRTW"
      },
      "execution_count": null,
      "outputs": []
    },
    {
      "cell_type": "code",
      "source": [
        "# Finding the different values the 'Android Ver' column takes\n",
        "ps_df[\"Android Ver\"].value_counts()"
      ],
      "metadata": {
        "id": "afRA9qZWnSZj"
      },
      "execution_count": null,
      "outputs": []
    },
    {
      "cell_type": "markdown",
      "source": [
        "Since the NaN values in the Android Ver column cannot be replaced by any particular value, and, since there are only 3 rows which contain NaN values in this column, which accounts to less than 0.03% of the total rows in the given dataset, it can be be dropped."
      ],
      "metadata": {
        "id": "Uey_T60ZndK-"
      }
    },
    {
      "cell_type": "code",
      "source": [
        "# dropping rows corresponding to the to the NaN values in the 'Android Ver' column.\n",
        "ps_df=ps_df[ps_df['Android Ver'].notna()]\n",
        "# Shape of the updated dataframe\n",
        "ps_df.shape"
      ],
      "metadata": {
        "id": "y9B3FrTGnZHP"
      },
      "execution_count": null,
      "outputs": []
    },
    {
      "cell_type": "code",
      "source": [
        "# The rows containing NaN values in the Current Ver column\n",
        "ps_df[ps_df[\"Current Ver\"].isnull()]"
      ],
      "metadata": {
        "id": "DhdgVGqxn4Ey"
      },
      "execution_count": null,
      "outputs": []
    },
    {
      "cell_type": "code",
      "source": [
        "# Finding the different values the 'Current Ver' column takes\n",
        "ps_df['Current Ver'].value_counts()"
      ],
      "metadata": {
        "id": "cqlxmyBFn9ON"
      },
      "execution_count": null,
      "outputs": []
    },
    {
      "cell_type": "markdown",
      "source": [
        "Since there are only 8 rows which contain NaN values in the Current Ver column, and it accounts to just around 0.07% of the total rows in the given dataset, and there is no particular value with which we can replace it, these rows can be dropped."
      ],
      "metadata": {
        "id": "XBEUJnuYoGEz"
      }
    },
    {
      "cell_type": "code",
      "source": [
        "# dropping rows corresponding to the values which contain NaN in the column 'Current Ver'.\n",
        "ps_df=ps_df[ps_df[\"Current Ver\"].notna()]\n",
        "# Shape of the updated dataframe\n",
        "ps_df.shape"
      ],
      "metadata": {
        "id": "_-3oKOOloBgp"
      },
      "execution_count": null,
      "outputs": []
    },
    {
      "cell_type": "code",
      "source": [
        "# The row containing NaN values in the Type column\n",
        "ps_df[ps_df[\"Type\"].isnull()]"
      ],
      "metadata": {
        "id": "swR2WspSoKj1"
      },
      "execution_count": null,
      "outputs": []
    },
    {
      "cell_type": "code",
      "source": [
        "# Finding the different values the 'Type' column takes\n",
        "ps_df[\"Type\"].value_counts()"
      ],
      "metadata": {
        "id": "mM5iVa7DoQaa"
      },
      "execution_count": null,
      "outputs": []
    },
    {
      "cell_type": "markdown",
      "source": [
        "The Type column contains only two entries, namely, Free and Paid. Also, if the app is of type-paid, the price of that app will be printed in the corresponding Price column, else, it will show as '0'. In this case, the price for the respective app is printed as '0', which means the app is of type-free. Hence we can replace this NaN value with Free."
      ],
      "metadata": {
        "id": "n1YejzfwoYdK"
      }
    },
    {
      "cell_type": "code",
      "source": [
        "# Replacing the NaN value in 'Type' column corresponding to row index 9148 with 'Free'\n",
        "ps_df.loc[9148,'Type']='Free'"
      ],
      "metadata": {
        "id": "dGwAfUJtoUOJ"
      },
      "execution_count": null,
      "outputs": []
    },
    {
      "cell_type": "code",
      "source": [
        "ps_df[ps_df[\"Type\"].isnull()]"
      ],
      "metadata": {
        "id": "Cv2v2TO0ofnZ"
      },
      "execution_count": null,
      "outputs": []
    },
    {
      "cell_type": "code",
      "source": [
        "# The rows containing NaN values in the Rating column\n",
        "ps_df[ps_df['Rating'].isnull()]"
      ],
      "metadata": {
        "id": "R4L0WcI0ojCg"
      },
      "execution_count": null,
      "outputs": []
    },
    {
      "cell_type": "markdown",
      "source": [
        "we know that the rating of any app in the play store will be in between 1 and 5. Lets check whether there are any ratings out of this range."
      ],
      "metadata": {
        "id": "9NkclVfFov-L"
      }
    },
    {
      "cell_type": "code",
      "source": [
        "ps_df[(ps_df['Rating'] <1) | (ps_df['Rating']>5)]"
      ],
      "metadata": {
        "id": "TLzElJqDongr"
      },
      "execution_count": null,
      "outputs": []
    },
    {
      "cell_type": "markdown",
      "source": [
        "The Rating column contains 1465 NaN values which accounts to apprximately 14.14% of the rows in the entire dataset. It is not practical to drop these rows because by doing so, we will loose a large amount of data, which may impact the final quality of the analysis.\n",
        "The NaN values in this case can be imputed by the aggregate (mean or median) of the remaining values in the Rating column."
      ],
      "metadata": {
        "id": "8h3jIn5Wo6PN"
      }
    },
    {
      "cell_type": "code",
      "source": [
        "# Finding mean and median in the Rating column excluding the NaN values.\n",
        "\n",
        "mean_rating = round(ps_df[~ps_df['Rating'].isnull()]['Rating'].mean(),4)\n",
        "\n",
        "median_rating = ps_df[~ps_df['Rating'].isnull()]['Rating'].median()\n",
        "\n",
        "[mean_rating , median_rating]"
      ],
      "metadata": {
        "id": "XTn4VaMio0SK"
      },
      "execution_count": null,
      "outputs": []
    },
    {
      "cell_type": "markdown",
      "source": [
        "**Visualization of distribution of rating using displot and detecting the outliers through boxplot.**"
      ],
      "metadata": {
        "id": "OypULoUbpQvz"
      }
    },
    {
      "cell_type": "code",
      "source": [
        "fig, ax = plt.subplots(2,1, figsize=(12,7))\n",
        "sns.distplot(ps_df['Rating'],color='firebrick',ax=ax[0])\n",
        "sns.boxplot(x='Rating',data=ps_df, ax=ax[1])"
      ],
      "metadata": {
        "id": "uDMn2zELpJ-o"
      },
      "execution_count": null,
      "outputs": []
    },
    {
      "cell_type": "markdown",
      "source": [
        "The mean of the average ratings (excluding the NaN values) comes to be 4.1.\n",
        "\n",
        "The median of the entries (excluding the NaN values) in the 'Rating' column comes to be 4.3. From this we can say that 50% of the apps have an average rating of above 4.3, and the rest below 4.3.\n",
        "\n",
        "From the distplot visualizations, it is clear that the ratings are left skewed.\n",
        "\n",
        "We know that if the variable is skewed, the mean is biased by the values at the far end of the distribution. Therefore, the median is a better representation of the majority of the values in the variable.\n",
        "\n",
        "Hence we will impute the NaN values in the Rating column with its median."
      ],
      "metadata": {
        "id": "kGf3OSrgpiKP"
      }
    },
    {
      "cell_type": "code",
      "source": [
        "# Replacing the NaN values in the 'Rating' colunm with its median value\n",
        "ps_df['Rating'].fillna(value=median_rating,inplace=True)"
      ],
      "metadata": {
        "id": "-1Lcw-CTpZGC"
      },
      "execution_count": null,
      "outputs": []
    },
    {
      "cell_type": "code",
      "source": [
        "ps_df.shape"
      ],
      "metadata": {
        "id": "zOeKIc54ZTSe"
      },
      "execution_count": null,
      "outputs": []
    },
    {
      "cell_type": "code",
      "source": [
        "# Remove rows containing missing (NaN) values from the DataFrame 'ps_df2' and update 'ps_df2' with the cleaned DataFrame.\n",
        "ps_df2 = ps_df2.dropna()"
      ],
      "metadata": {
        "id": "VCrZ4kWVZez-"
      },
      "execution_count": null,
      "outputs": []
    },
    {
      "cell_type": "code",
      "source": [
        "ps_df2.shape"
      ],
      "metadata": {
        "id": "sAYtreNSZlqF"
      },
      "execution_count": null,
      "outputs": []
    },
    {
      "cell_type": "markdown",
      "source": [
        "### What did you know about your dataset?"
      ],
      "metadata": {
        "id": "H0kj-8xxnORC"
      }
    },
    {
      "cell_type": "markdown",
      "source": [
        "Basically we have two datasets which consists of play store and user reviews. Playstore consist of total 10841 rows and 13 columns. While user reviews consist of total 64295 rows and 5 columns. Play store contains app information and its reviews, rating columns. while user reviews gives us sentiment subjectivity and polarity columns. Specifically both the datasets having missing and NAN , duplicate values. We impute missing values whaerever required and drop the duplicated values."
      ],
      "metadata": {
        "id": "gfoNAAC-nUe_"
      }
    },
    {
      "cell_type": "markdown",
      "source": [
        "## ***2. Understanding Your Variables***"
      ],
      "metadata": {
        "id": "nA9Y7ga8ng1Z"
      }
    },
    {
      "cell_type": "code",
      "source": [
        "# Dataset Columns\n",
        "ps_df.columns"
      ],
      "metadata": {
        "id": "j7xfkqrt5Ag5"
      },
      "execution_count": null,
      "outputs": []
    },
    {
      "cell_type": "code",
      "source": [
        "ps_df2.columns"
      ],
      "metadata": {
        "id": "3UAtNPqDv80S"
      },
      "execution_count": null,
      "outputs": []
    },
    {
      "cell_type": "code",
      "source": [
        "# Dataset Describe\n",
        "ps_df.describe(include = \"all\")"
      ],
      "metadata": {
        "id": "DnOaZdaE5Q5t"
      },
      "execution_count": null,
      "outputs": []
    },
    {
      "cell_type": "code",
      "source": [
        "ps_df2.describe(include = \"all\")"
      ],
      "metadata": {
        "id": "u7fxB9fR230V"
      },
      "execution_count": null,
      "outputs": []
    },
    {
      "cell_type": "markdown",
      "source": [
        "### Variables Description"
      ],
      "metadata": {
        "id": "PBTbrJXOngz2"
      }
    },
    {
      "cell_type": "markdown",
      "source": [
        "play_store dataframe has 10347 rows and 13 columns. The 13 columns are identified as below:\n",
        "\n",
        "**App** - It refers to the name of the application with a short description.\n",
        "\n",
        "**Category** - It gives the category to the app.\n",
        "\n",
        "**Rating** - It refers to the average rating the respective app received from its users.\n",
        "\n",
        "**Reviews** - It tells us about the total number of users who have given a review for the application.\n",
        "\n",
        "**Size **- It tells us about the size being occupied the application on the mobile phone.\n",
        "\n",
        "**Installs** - It tells us about the total number of installs/downloads for an application.\n",
        "\n",
        "**Type **- It states whether an app is free to use or paid.\n",
        "\n",
        "**Price** - It gives the price payable to install the app. For free type apps, the price is zero.\n",
        "\n",
        "**Content Rating** - It refers to whether or not an app is suitable for all age groups or not.\n",
        "\n",
        "**Genres** - It tells us about the various other categories to which an application can belong.\n",
        "\n",
        "**Last Updated** - It tells us about the when the application was updated.\n",
        "\n",
        "**Current Ver** - It tells us about the current version of the application.\n",
        "\n",
        "**Android Ver **- It tells us about the android version which can support the application on its platform.\n",
        "\n",
        "user_reviews dataframe has 29692 rows and 5 columns. The 5 columns are identified as follows:\n",
        "\n",
        "**App:** Contains the name of the app with a short description.\n",
        "\n",
        "**Translated_Review:** It contains the English translation of the review dropped by the user of the app.\n",
        "\n",
        "**Sentiment:** It gives the attitude/emotion of the writer. It can be ‘Positive’, ‘Negative’, or ‘Neutral’.\n",
        "\n",
        "**Sentiment_Polarity:** It gives the polarity of the review. Its range is [-1,1], where 1 means ‘Positive statement’ and -1 means a ‘Negative statement’.\n",
        "\n",
        "**Sentiment_Subjectivity:** This value gives how close a reviewers opinion is to the opinion of the general public. Its range is [0,1]. Higher the subjectivity, closer is the reviewers opinion to the opinion of the general public, and lower subjectivity indicates the review is more of a factual information."
      ],
      "metadata": {
        "id": "aJV4KIxSnxay"
      }
    },
    {
      "cell_type": "markdown",
      "source": [
        "### Check Unique Values for each variable."
      ],
      "metadata": {
        "id": "u3PMJOP6ngxN"
      }
    },
    {
      "cell_type": "code",
      "source": [
        "# Check Unique Values for each variable\n",
        "ps_df[\"App\"].nunique()"
      ],
      "metadata": {
        "id": "piKTx5495U9G"
      },
      "execution_count": null,
      "outputs": []
    },
    {
      "cell_type": "code",
      "source": [
        "ps_df[\"Category\"].nunique()"
      ],
      "metadata": {
        "id": "SSGqC96L-ke9"
      },
      "execution_count": null,
      "outputs": []
    },
    {
      "cell_type": "code",
      "source": [
        "ps_df[\"Type\"].nunique()"
      ],
      "metadata": {
        "id": "_CTohl-I-JqR"
      },
      "execution_count": null,
      "outputs": []
    },
    {
      "cell_type": "code",
      "source": [
        "ps_df[\"Price\"].nunique()"
      ],
      "metadata": {
        "id": "pwzGrphy__x9"
      },
      "execution_count": null,
      "outputs": []
    },
    {
      "cell_type": "code",
      "source": [
        "ps_df[\"Price\"].max()"
      ],
      "metadata": {
        "id": "styckabDAFST"
      },
      "execution_count": null,
      "outputs": []
    },
    {
      "cell_type": "code",
      "source": [
        "ps_df[\"Genres\"].nunique()"
      ],
      "metadata": {
        "id": "HXFxpfNyAR-H"
      },
      "execution_count": null,
      "outputs": []
    },
    {
      "cell_type": "markdown",
      "source": [
        "## 3. ***Data Wrangling***"
      ],
      "metadata": {
        "id": "dauF4eBmngu3"
      }
    },
    {
      "cell_type": "markdown",
      "source": [
        "### Data Wrangling Code"
      ],
      "metadata": {
        "id": "bKJF3rekwFvQ"
      }
    },
    {
      "cell_type": "code",
      "source": [
        "# Changing the datatype of the Last Updated column from string to datetime.\n",
        "# Pandas to_datetime() function applied to the values in the last updated column helps to convert string Date time into Python Date time object.\n",
        "ps_df[\"Last Updated\"] = pd.to_datetime(ps_df['Last Updated'])\n",
        "ps_df.head()"
      ],
      "metadata": {
        "id": "wk-9a2fpoLcV"
      },
      "execution_count": null,
      "outputs": []
    },
    {
      "cell_type": "code",
      "source": [
        "# Changing the datatype of thePrice column from string to float\n",
        "ps_df['Price'].value_counts()"
      ],
      "metadata": {
        "id": "QO9or1cGyH8Y"
      },
      "execution_count": null,
      "outputs": []
    },
    {
      "cell_type": "markdown",
      "source": [
        "To convert this column from string to float, we must first drop the $ symbol from the all the values. Then we can assign float datatype to those values.\n",
        "\n",
        "Applying the drop_dollar function to convert the values in thePrice column from string datatype to float datatype."
      ],
      "metadata": {
        "id": "cmyfY_BQydxl"
      }
    },
    {
      "cell_type": "code",
      "source": [
        "# Creating a function drop-dollar which dropps the $ symbol if it is present and returns the output which is of float datatype.\n",
        "def convert_dollar(val):\n",
        "  '''\n",
        "  This funtion drops the $ symbol if present and returns the value with float datatype.\n",
        "  '''\n",
        "  if '$' in val:\n",
        "    return float(val[1:])\n",
        "  else:\n",
        "    return float(val)"
      ],
      "metadata": {
        "id": "K7UXRRP5yaId"
      },
      "execution_count": null,
      "outputs": []
    },
    {
      "cell_type": "code",
      "source": [
        "# The drop_dollar funtion applied to the price column\n",
        "ps_df['Price']=ps_df['Price'].apply(lambda x: convert_dollar(x))\n",
        "ps_df.head()"
      ],
      "metadata": {
        "id": "Hmk00XhsyiDG"
      },
      "execution_count": null,
      "outputs": []
    },
    {
      "cell_type": "code",
      "source": [
        "ps_df[ps_df['Price']!=0].head()"
      ],
      "metadata": {
        "id": "57pD_OntylkI"
      },
      "execution_count": null,
      "outputs": []
    },
    {
      "cell_type": "code",
      "source": [
        "# Converting the values in theInstallscolumn from string datatype to integer datatype.\n",
        "# Checking the contents of the 'Installs' column\n",
        "ps_df['Installs'].value_counts()"
      ],
      "metadata": {
        "id": "9sFnUMkvyuRl"
      },
      "execution_count": null,
      "outputs": []
    },
    {
      "cell_type": "markdown",
      "source": [
        "To convert all the values in the Installs column from string datatype to integer datatype, we must first drop the '+' symbol from all the entries if present and then we can change its datatype.\n",
        "\n",
        "Applying the convert_plus function to convert the values in the Installs column from string datatype to float datatype."
      ],
      "metadata": {
        "id": "nogdtIFIy6bt"
      }
    },
    {
      "cell_type": "code",
      "source": [
        "# Creating a function convert_plus which drops the '+' symbol if it is present and returns the output which is of integer datatype.\n",
        "\n",
        "def convert_plus(val):\n",
        "  '''\n",
        "  This function drops the + symbol if present and returns the value with int datatype.\n",
        "  '''\n",
        "  if '+' and ',' in val:\n",
        "    new = int(val[:-1].replace(',',''))\n",
        "    return new\n",
        "  elif '+' in val:\n",
        "    new1 = int(val[:-1])\n",
        "    return new1\n",
        "  else:\n",
        "    return int(val)"
      ],
      "metadata": {
        "id": "yc7WZ_i4y2Wq"
      },
      "execution_count": null,
      "outputs": []
    },
    {
      "cell_type": "code",
      "source": [
        "# The drop_plus funtion applied to the main dataframe\n",
        "\n",
        "ps_df['Installs'] = ps_df['Installs'].apply(lambda x: convert_plus(x))\n",
        "ps_df.head()"
      ],
      "metadata": {
        "id": "QETRwY9Hy984"
      },
      "execution_count": null,
      "outputs": []
    },
    {
      "cell_type": "markdown",
      "source": [
        "The resultant values in the Installs column are of the integer datatype, and it represents the least number of times a particular app has been installed.\n",
        "\n",
        "Installs = 0 indicates that that particular app has not been installed by anyone yet.\n",
        "Installs = 1 indicates that the particular app has been installed by atleast\n",
        "one user.\n",
        "\n",
        "Installs = 1000000 indicates that the particular app has been installed by atleast one million users. So on and so forth.\n",
        "We have successfully converted the datatype of values in the Installs column from string to int."
      ],
      "metadata": {
        "id": "bnr5WsSSzG7L"
      }
    },
    {
      "cell_type": "code",
      "source": [
        "# Converting the values in the Size column to a same unit of measure(MB)\n",
        "ps_df['Size'].value_counts()"
      ],
      "metadata": {
        "id": "E4DH5voWzCIA"
      },
      "execution_count": null,
      "outputs": []
    },
    {
      "cell_type": "markdown",
      "source": [
        "We can see that the values in the Size column contains data with different units. 'M' stands for MB and 'k' stands for KB. To easily analyse this column, it is necessary to convert all the values to a single unit. In this case, we will convert all the units to MB.\n",
        "\n",
        "We know that 1MB = 1024KB, to convert KB to MB, we must divide all the values which are in KB by 1024."
      ],
      "metadata": {
        "id": "s7KHz3DlzT0k"
      }
    },
    {
      "cell_type": "code",
      "source": [
        "# Defining a function to convert all the entries in KB to MB and then converting them to float datatype.\n",
        "\n",
        "def convert_kb_to_mb(val):\n",
        "  '''\n",
        "  This function converts all the valid entries in KB to MB and returns the result in float datatype.\n",
        "  '''\n",
        "  try:\n",
        "    if 'M' in val:\n",
        "      return float(val[:-1])\n",
        "    elif 'k' in val:\n",
        "      return round(float(val[:-1])/1024, 4)\n",
        "    else:\n",
        "      return val\n",
        "  except:\n",
        "    return val"
      ],
      "metadata": {
        "id": "sgDOxf83zUft"
      },
      "execution_count": null,
      "outputs": []
    },
    {
      "cell_type": "code",
      "source": [
        "# The kb_to_mb funtion applied to the size column\n",
        "\n",
        "ps_df['Size'] = ps_df['Size'].apply(lambda x: convert_kb_to_mb(x))\n",
        "ps_df.head()"
      ],
      "metadata": {
        "id": "bdaTtkfBzXvS"
      },
      "execution_count": null,
      "outputs": []
    },
    {
      "cell_type": "code",
      "source": [
        "ps_df[\"Size\"].info()"
      ],
      "metadata": {
        "id": "0VHTjyABuPMh"
      },
      "execution_count": null,
      "outputs": []
    },
    {
      "cell_type": "code",
      "source": [
        "# Finding max, min, mean, and median in the Size column excluding the 'Varies with device' values.\n",
        "\n",
        "max_size = ps_df[ps_df['Size'] != 'Varies with device']['Size'].max()\n",
        "\n",
        "min_size = ps_df[ps_df['Size'] != 'Varies with device']['Size'].min()\n",
        "\n",
        "mean_size = round(ps_df[ps_df['Size'] != 'Varies with device']['Size'].mean(),4)\n",
        "\n",
        "median_size = ps_df[ps_df['Size'] != 'Varies with device']['Size'].median()\n",
        "\n",
        "[max_size, min_size, mean_size, median_size]"
      ],
      "metadata": {
        "id": "7ks5wYyxzeUE"
      },
      "execution_count": null,
      "outputs": []
    },
    {
      "cell_type": "code",
      "source": [
        "# Replace \"Varies with device\" with NaN\n",
        "ps_df['Size'] = ps_df['Size'].replace('Varies with device', np.nan)\n",
        "\n",
        "# Convert the 'Size' column to a numeric type\n",
        "ps_df['Size'] = pd.to_numeric(ps_df['Size'], errors='coerce')"
      ],
      "metadata": {
        "id": "jp-IIWsc_paf"
      },
      "execution_count": null,
      "outputs": []
    },
    {
      "cell_type": "markdown",
      "source": [
        "**Visualization of distribution of `Size` using displot and detecting the outliers through boxplot.**"
      ],
      "metadata": {
        "id": "vQrhlEarzm_t"
      }
    },
    {
      "cell_type": "code",
      "source": [
        "# Distplot\n",
        "fig, ax = plt.subplots(2,1, figsize=(12,7))\n",
        "sns.distplot(ps_df[ps_df['Size'] != 'Varies with device']['Size'], color='purple', ax=ax[0])\n",
        "sns.boxplot(x='Size',data=ps_df, ax=ax[1])"
      ],
      "metadata": {
        "id": "acff5hJdzix_"
      },
      "execution_count": null,
      "outputs": []
    },
    {
      "cell_type": "markdown",
      "source": [
        "It is clear from the visualizations that the data in the Size column is skewed towards the right.\n",
        "\n",
        "Also, we see that a vast majority of the entries in this column are of the value Varies with device, replacing this with any central tendency value (mean or median) may give incorrect visualizations and results. Hence these values are left as it is.\n",
        "\n",
        "We have successfully converted all the valid entries in the Size column to a single unit of measure (MB) and the datatype from string to float."
      ],
      "metadata": {
        "id": "KisCViLnz0fT"
      }
    },
    {
      "cell_type": "code",
      "source": [
        "# Converting the datatype of values in theReviewscolumn from string to int.\n",
        "# Converting the datatype of the values in the reviews column from string to int\n",
        "ps_df['Reviews'] = ps_df['Reviews'].astype(int)\n",
        "ps_df.head()"
      ],
      "metadata": {
        "id": "VPAdubjpztat"
      },
      "execution_count": null,
      "outputs": []
    },
    {
      "cell_type": "code",
      "source": [
        "ps_df.describe()"
      ],
      "metadata": {
        "id": "TvkdsXbVz-DQ"
      },
      "execution_count": null,
      "outputs": []
    },
    {
      "cell_type": "code",
      "source": [
        "#data based on rating vs price\n",
        "price_df=ps_df[[\"App\",\"Price\",\"Type\",\"Rating\",\"Size\"]]\n",
        "price_df.head()"
      ],
      "metadata": {
        "id": "qHmAWZdM9ufo"
      },
      "execution_count": null,
      "outputs": []
    },
    {
      "cell_type": "code",
      "source": [
        "#apps content rating\n",
        "grouped = ps_df[['App','Content Rating']]\n",
        "grouped"
      ],
      "metadata": {
        "id": "9LXYp3GS9v1R"
      },
      "execution_count": null,
      "outputs": []
    },
    {
      "cell_type": "code",
      "source": [
        "#apps age group\n",
        "age_grouped= grouped.rename(columns={'Content Rating': 'age_group'})\n",
        "age_grouped"
      ],
      "metadata": {
        "id": "8_7tu07KBxxY"
      },
      "execution_count": null,
      "outputs": []
    },
    {
      "cell_type": "code",
      "source": [
        "#android version of apps\n",
        "versions=ps_df[\"Android Ver\"].value_counts().reset_index()\n",
        "versions = versions.rename(columns={'index':'Android Ver','Android Ver': 'count'})\n",
        "versions"
      ],
      "metadata": {
        "id": "x0y4AeguB3bc"
      },
      "execution_count": null,
      "outputs": []
    },
    {
      "cell_type": "code",
      "source": [
        "#total apps based on category\n",
        "df=ps_df.groupby('Category')['App'].nunique().reset_index(name=\"Total Apps\")\n",
        "df=df.sort_values(by=['Total Apps'],ascending=False)\n",
        "df"
      ],
      "metadata": {
        "id": "tPYrcF2qCD8P"
      },
      "execution_count": null,
      "outputs": []
    },
    {
      "cell_type": "markdown",
      "source": [
        "## ***4. Data Vizualization, Storytelling & Experimenting with charts : Understand the relationships between variables***"
      ],
      "metadata": {
        "id": "GF8Ens_Soomf"
      }
    },
    {
      "cell_type": "markdown",
      "source": [
        "#### Chart - 1 Pie Chart"
      ],
      "metadata": {
        "id": "0wOQAZs5pc--"
      }
    },
    {
      "cell_type": "code",
      "source": [
        "# Chart - 1 visualization code\n",
        "#pie chart on price of apps\n",
        "plt.figure(figsize=(8,6))\n",
        "plt.title(\"Apps on price\",fontsize = 16)\n",
        "plt.pie(price_df.Type.value_counts(), labels=price_df.Type.value_counts().index,autopct='%1.1f%%',startangle=90,explode=(0, 0.1))\n",
        "plt.show()"
      ],
      "metadata": {
        "id": "7v_ESjsspbW7"
      },
      "execution_count": null,
      "outputs": []
    },
    {
      "cell_type": "markdown",
      "source": [
        "##### 1. Why did you pick the specific chart?"
      ],
      "metadata": {
        "id": "K5QZ13OEpz2H"
      }
    },
    {
      "cell_type": "markdown",
      "source": [
        "Pie chart used to show the relative proportions of each category. We used pie chart because it is simple and easy to compare the category."
      ],
      "metadata": {
        "id": "XESiWehPqBRc"
      }
    },
    {
      "cell_type": "markdown",
      "source": [
        "##### 2. What is/are the insight(s) found from the chart?"
      ],
      "metadata": {
        "id": "lQ7QKXXCp7Bj"
      }
    },
    {
      "cell_type": "markdown",
      "source": [
        "Objecting towards the pie chart we depict that majority of apps in the play store are free of cost."
      ],
      "metadata": {
        "id": "C_j1G7yiqdRP"
      }
    },
    {
      "cell_type": "markdown",
      "source": [
        "##### 3. Will the gained insights help creating a positive business impact?\n",
        "Are there any insights that lead to negative growth? Justify with specific reason."
      ],
      "metadata": {
        "id": "448CDAPjqfQr"
      }
    },
    {
      "cell_type": "markdown",
      "source": [
        "From the above pie chart, we can conclude that most of the apps are free (approx 92%) and paid apps (approx 7%) Listing. It may lead to fewer installations of paid apps. This may lead to less revenue generation."
      ],
      "metadata": {
        "id": "3cspy4FjqxJW"
      }
    },
    {
      "cell_type": "markdown",
      "source": [
        "#### Chart - 2 Pie Chart"
      ],
      "metadata": {
        "id": "KSlN3yHqYklG"
      }
    },
    {
      "cell_type": "code",
      "source": [
        "# Chart - 2 visualization code\n",
        "#age group on apps\n",
        "plt.figure(figsize=(10,6))\n",
        "plt.title(\"Apps per age group\",fontsize = 16)\n",
        "plt.pie(age_grouped.age_group.value_counts(), labels=age_grouped.age_group.value_counts().index,autopct='%1.1f%%',startangle=180,explode=(0.1, 0,0,0,1,2.5))\n",
        "plt.show()"
      ],
      "metadata": {
        "id": "R4YgtaqtYklH"
      },
      "execution_count": null,
      "outputs": []
    },
    {
      "cell_type": "markdown",
      "source": [
        "##### 1. Why did you pick the specific chart?"
      ],
      "metadata": {
        "id": "t6dVpIINYklI"
      }
    },
    {
      "cell_type": "markdown",
      "source": [
        "Pie chart is used to draw relative proportions of each category. There are only four category so we easily depict relative proportions of each category."
      ],
      "metadata": {
        "id": "5aaW0BYyYklI"
      }
    },
    {
      "cell_type": "markdown",
      "source": [
        "##### 2. What is/are the insight(s) found from the chart?"
      ],
      "metadata": {
        "id": "ijmpgYnKYklI"
      }
    },
    {
      "cell_type": "markdown",
      "source": [
        "From the above chart we conclude that everyone category has highest usage of playstore apps."
      ],
      "metadata": {
        "id": "PSx9atu2YklI"
      }
    },
    {
      "cell_type": "markdown",
      "source": [
        "##### 3. Will the gained insights help creating a positive business impact?\n",
        "Are there any insights that lead to negative growth? Justify with specific reason."
      ],
      "metadata": {
        "id": "-JiQyfWJYklI"
      }
    },
    {
      "cell_type": "markdown",
      "source": [
        "We conclude that most of the app has no user age restrictions in order to use the play store app.So that we can have chance to explore our business among all age group."
      ],
      "metadata": {
        "id": "BcBbebzrYklV"
      }
    },
    {
      "cell_type": "markdown",
      "source": [
        "#### Chart - 3 Bar Chart"
      ],
      "metadata": {
        "id": "EM7whBJCYoAo"
      }
    },
    {
      "cell_type": "code",
      "source": [
        "# Chart - 3 visualization code\n",
        "#total apps based on versions\n",
        "plt.figure(figsize=(20,6))\n",
        "plt.title(\"Apps Android versions\",fontsize=16)\n",
        "sns.barplot(data=versions,x=\"Android Ver\",y=\"count\")\n",
        "plt.xticks(rotation= 90)\n",
        "plt.xlabel('Categorys',fontsize=16)\n",
        "plt.ylabel('Total Apps',fontsize=16)\n",
        "plt.show()"
      ],
      "metadata": {
        "id": "t6GMdE67YoAp"
      },
      "execution_count": null,
      "outputs": []
    },
    {
      "cell_type": "markdown",
      "source": [
        "##### 1. Why did you pick the specific chart?"
      ],
      "metadata": {
        "id": "fge-S5ZAYoAp"
      }
    },
    {
      "cell_type": "markdown",
      "source": [
        "Bar charts are particularly useful for comparing and displaying data across different categories or groups.So, here I want to show the segment of app versions that's why I choose a bar graph."
      ],
      "metadata": {
        "id": "5dBItgRVYoAp"
      }
    },
    {
      "cell_type": "markdown",
      "source": [
        "##### 2. What is/are the insight(s) found from the chart?"
      ],
      "metadata": {
        "id": "85gYPyotYoAp"
      }
    },
    {
      "cell_type": "markdown",
      "source": [
        "Highest number of app android version are 4.1 and above."
      ],
      "metadata": {
        "id": "4jstXR6OYoAp"
      }
    },
    {
      "cell_type": "markdown",
      "source": [
        "##### 3. Will the gained insights help creating a positive business impact?\n",
        "Are there any insights that lead to negative growth? Justify with specific reason."
      ],
      "metadata": {
        "id": "RoGjAbkUYoAp"
      }
    },
    {
      "cell_type": "markdown",
      "source": [
        "Highest number of app vesrion is 4.1 and above. Hence most of the users are utilizing the updated playstore apps. Hence we have to take active actions to upgrade versions as per trend."
      ],
      "metadata": {
        "id": "zfJ8IqMcYoAp"
      }
    },
    {
      "cell_type": "markdown",
      "source": [
        "#### Chart - 4 Bar chart"
      ],
      "metadata": {
        "id": "4Of9eVA-YrdM"
      }
    },
    {
      "cell_type": "code",
      "source": [
        "# Chart - 4 visualization code\n",
        "#bar graph on apps category\n",
        "plt.figure(figsize=(20,6))\n",
        "plt.title(\"Total Apps on category\",fontsize=16)\n",
        "sns.barplot(data=df,x=\"Category\",y=\"Total Apps\")\n",
        "plt.xticks(rotation= 90)\n",
        "plt.xlabel('Categorys',fontsize=16)\n",
        "plt.ylabel('Total Apps',fontsize=16)\n",
        "plt.show()"
      ],
      "metadata": {
        "id": "irlUoxc8YrdO"
      },
      "execution_count": null,
      "outputs": []
    },
    {
      "cell_type": "markdown",
      "source": [
        "##### 1. Why did you pick the specific chart?"
      ],
      "metadata": {
        "id": "iky9q4vBYrdO"
      }
    },
    {
      "cell_type": "markdown",
      "source": [
        "Bar charts are used to compare the category count. In this scenario we have to compare number of apps in different category."
      ],
      "metadata": {
        "id": "aJRCwT6DYrdO"
      }
    },
    {
      "cell_type": "markdown",
      "source": [
        "##### 2. What is/are the insight(s) found from the chart?"
      ],
      "metadata": {
        "id": "F6T5p64dYrdO"
      }
    },
    {
      "cell_type": "markdown",
      "source": [
        "Family category has highest number of apps at playstore while beauty has lowest."
      ],
      "metadata": {
        "id": "Xx8WAJvtYrdO"
      }
    },
    {
      "cell_type": "markdown",
      "source": [
        "##### 3. Will the gained insights help creating a positive business impact?\n",
        "Are there any insights that lead to negative growth? Justify with specific reason."
      ],
      "metadata": {
        "id": "y-Ehk30pYrdP"
      }
    },
    {
      "cell_type": "markdown",
      "source": [
        "Objecting towards the bar charts we came to know that family category has highest number of playstore apps while beauty has lowest number so we need to focus on increasing the other category number of apps."
      ],
      "metadata": {
        "id": "jLNxxz7MYrdP"
      }
    },
    {
      "cell_type": "markdown",
      "source": [
        "#### Chart - 5 Bar chart"
      ],
      "metadata": {
        "id": "bamQiAODYuh1"
      }
    },
    {
      "cell_type": "code",
      "source": [
        "# Chart - 5 visualization code\n",
        "#top apps by category\n",
        "category=df.sort_values(by='Total Apps', ascending=False)\n",
        "top_five_category=category.head()\n",
        "least_five_category=category.tail()"
      ],
      "metadata": {
        "id": "TIJwrbroYuh3"
      },
      "execution_count": null,
      "outputs": []
    },
    {
      "cell_type": "code",
      "source": [
        "#top category\n",
        "top_five_category.reset_index()"
      ],
      "metadata": {
        "id": "envkeacXPGnw"
      },
      "execution_count": null,
      "outputs": []
    },
    {
      "cell_type": "code",
      "source": [
        "#bar graph of top five category\n",
        "fig = plt.figure(figsize = (7, 5))\n",
        "sns.barplot(data=top_five_category, x=\"Category\", y=\"Total Apps\")\n",
        "plt.title(\"Top five Category of listed apps\",fontsize=16)\n",
        "plt.xlabel(\"Category\",fontsize=16)\n",
        "plt.ylabel(\"Total Apps\",fontsize=16)\n",
        "plt.show()"
      ],
      "metadata": {
        "id": "ORub9ti6PJ0u"
      },
      "execution_count": null,
      "outputs": []
    },
    {
      "cell_type": "markdown",
      "source": [
        "##### 1. Why did you pick the specific chart?"
      ],
      "metadata": {
        "id": "QHF8YVU7Yuh3"
      }
    },
    {
      "cell_type": "markdown",
      "source": [
        "Bar charts are used to compare the different categories number of counts over each other."
      ],
      "metadata": {
        "id": "dcxuIMRPYuh3"
      }
    },
    {
      "cell_type": "markdown",
      "source": [
        "##### 2. What is/are the insight(s) found from the chart?"
      ],
      "metadata": {
        "id": "GwzvFGzlYuh3"
      }
    },
    {
      "cell_type": "markdown",
      "source": [
        "We get the top 5 categories of play store app."
      ],
      "metadata": {
        "id": "uyqkiB8YYuh3"
      }
    },
    {
      "cell_type": "markdown",
      "source": [
        "##### 3. Will the gained insights help creating a positive business impact?\n",
        "Are there any insights that lead to negative growth? Justify with specific reason."
      ],
      "metadata": {
        "id": "qYpmQ266Yuh3"
      }
    },
    {
      "cell_type": "markdown",
      "source": [
        "From the bar chart above we will get the top 5 categories by its count so we could focuses on under which category we might have lagging."
      ],
      "metadata": {
        "id": "_WtzZ_hCYuh4"
      }
    },
    {
      "cell_type": "markdown",
      "source": [
        "#### Chart - 6 Bar Chart"
      ],
      "metadata": {
        "id": "OH-pJp9IphqM"
      }
    },
    {
      "cell_type": "code",
      "source": [
        "# Chart - 6 visualization code\n",
        "#least five category\n",
        "least_five_category.reset_index()"
      ],
      "metadata": {
        "id": "kuRf4wtuphqN"
      },
      "execution_count": null,
      "outputs": []
    },
    {
      "cell_type": "code",
      "source": [
        "#bar graph on least category\n",
        "fig = plt.figure(figsize = (7, 5))\n",
        "sns.barplot(data=least_five_category, x=\"Category\", y=\"Total Apps\")\n",
        "plt.title(\"Least five Category of listed apps\",fontsize=16)\n",
        "plt.xlabel(\"Category\",fontsize=16)\n",
        "plt.ylabel(\"Total Apps\",fontsize=16)\n",
        "plt.show()"
      ],
      "metadata": {
        "id": "ts1FyppTQhnP"
      },
      "execution_count": null,
      "outputs": []
    },
    {
      "cell_type": "markdown",
      "source": [
        "##### 1. Why did you pick the specific chart?"
      ],
      "metadata": {
        "id": "bbFf2-_FphqN"
      }
    },
    {
      "cell_type": "markdown",
      "source": [
        "This chart is used to compare the segment information."
      ],
      "metadata": {
        "id": "loh7H2nzphqN"
      }
    },
    {
      "cell_type": "markdown",
      "source": [
        "##### 2. What is/are the insight(s) found from the chart?"
      ],
      "metadata": {
        "id": "_ouA3fa0phqN"
      }
    },
    {
      "cell_type": "markdown",
      "source": [
        "From above bar chart we visualize the least five app categories by its count."
      ],
      "metadata": {
        "id": "VECbqPI7phqN"
      }
    },
    {
      "cell_type": "markdown",
      "source": [
        "##### 3. Will the gained insights help creating a positive business impact?\n",
        "Are there any insights that lead to negative growth? Justify with specific reason."
      ],
      "metadata": {
        "id": "Seke61FWphqN"
      }
    },
    {
      "cell_type": "markdown",
      "source": [
        "Objecting towards above graph we have lagging 5 categories swhich we want to focus more to improve."
      ],
      "metadata": {
        "id": "DW4_bGpfphqN"
      }
    },
    {
      "cell_type": "markdown",
      "source": [
        "#### Chart - 7 Bar chart"
      ],
      "metadata": {
        "id": "PIIx-8_IphqN"
      }
    },
    {
      "cell_type": "code",
      "source": [
        "# Chart - 7 visualization code\n",
        "#number of istalls based on category\n",
        "categories= ps_df.groupby('Category')[\"Installs\"].sum().reset_index()\n",
        "category_installs_sum_df=categories.sort_values(by='Installs', ascending=False)\n",
        "category_installs_sum_df"
      ],
      "metadata": {
        "id": "lqAIGUfyphqO"
      },
      "execution_count": null,
      "outputs": []
    },
    {
      "cell_type": "code",
      "source": [
        "#bar graph on category vice installetions\n",
        "plt.figure(figsize=(20, 6))\n",
        "sns.barplot(x='Category', y='Installs', data=category_installs_sum_df)\n",
        "plt.xticks(rotation=90)\n",
        "plt.xlabel(\"Category\",fontsize=16)\n",
        "plt.ylabel('Installs (e+10)',fontsize=16)\n",
        "plt.title('Number of Installs For Each Category',fontsize=16)\n",
        "plt.show()"
      ],
      "metadata": {
        "id": "CURJ3ttARkJE"
      },
      "execution_count": null,
      "outputs": []
    },
    {
      "cell_type": "markdown",
      "source": [
        "##### 1. Why did you pick the specific chart?"
      ],
      "metadata": {
        "id": "t27r6nlMphqO"
      }
    },
    {
      "cell_type": "markdown",
      "source": [
        "Bar charts are used for comparison between segment of information."
      ],
      "metadata": {
        "id": "iv6ro40sphqO"
      }
    },
    {
      "cell_type": "markdown",
      "source": [
        "##### 2. What is/are the insight(s) found from the chart?"
      ],
      "metadata": {
        "id": "r2jJGEOYphqO"
      }
    },
    {
      "cell_type": "markdown",
      "source": [
        "From this distribution plotting of number of installs for each category, we can see that most of the apps being downloaded and installed are from the categories of 'Game' and 'Communication'.\n",
        "\n",
        "From the above two plots we can conclude that, maximum number of apps present in google play store comes under Family, Games and Tools Category but as per the installations and requirements in the market place, this is not the case. Maximum installed apps comes under Games, Communication and Tools."
      ],
      "metadata": {
        "id": "Po6ZPi4hphqO"
      }
    },
    {
      "cell_type": "markdown",
      "source": [
        "##### 3. Will the gained insights help creating a positive business impact?\n",
        "Are there any insights that lead to negative growth? Justify with specific reason."
      ],
      "metadata": {
        "id": "b0JNsNcRphqO"
      }
    },
    {
      "cell_type": "markdown",
      "source": [
        "From the above visualization, we can say that it is profitable to list a game on the play store but in the category like event and beauty it may lead a negative growth of business and apps."
      ],
      "metadata": {
        "id": "xvSq8iUTphqO"
      }
    },
    {
      "cell_type": "markdown",
      "source": [
        "#### Chart - 8 Box Plot"
      ],
      "metadata": {
        "id": "BZR9WyysphqO"
      }
    },
    {
      "cell_type": "code",
      "source": [
        "# Chart - 8 visualization code\n",
        "#data frame df1\n",
        "df1 =ps_df[[\"App\",\"Category\",\"Rating\",\"Reviews\",\"Installs\",\"Price\",\"Type\",\"Genres\",\"Content Rating\",\"Size\"]]\n",
        "df1"
      ],
      "metadata": {
        "id": "TdPTWpAVphqO"
      },
      "execution_count": null,
      "outputs": []
    },
    {
      "cell_type": "code",
      "source": [
        "#box plot on average rating\n",
        "plt.figure(figsize=(15,8))\n",
        "plt.title(\"Average rating on Category\",fontsize=16)\n",
        "sns.boxplot(y=\"Category\",x ='Rating',data =df1)\n",
        "plt.xlabel(\"Rating\",fontsize=16)\n",
        "plt.ylabel(\"Category\",fontsize=16)\n",
        "plt.show()"
      ],
      "metadata": {
        "id": "_z4hV3TwSx5_"
      },
      "execution_count": null,
      "outputs": []
    },
    {
      "cell_type": "markdown",
      "source": [
        "##### 1. Why did you pick the specific chart?"
      ],
      "metadata": {
        "id": "jj7wYXLtphqO"
      }
    },
    {
      "cell_type": "markdown",
      "source": [
        "Box plot is created to display summary of the set of data values having properties like minimum, first quartile, median, third quartile and maximum."
      ],
      "metadata": {
        "id": "Ob8u6rCTphqO"
      }
    },
    {
      "cell_type": "markdown",
      "source": [
        "##### 2. What is/are the insight(s) found from the chart?"
      ],
      "metadata": {
        "id": "eZrbJ2SmphqO"
      }
    },
    {
      "cell_type": "markdown",
      "source": [
        "From this distribution plotting, it depicts that most of the apps in the Play Store are having rating higher than 4 or in the range of 4 to 4.5."
      ],
      "metadata": {
        "id": "mZtgC_hjphqO"
      }
    },
    {
      "cell_type": "markdown",
      "source": [
        "##### 3. Will the gained insights help creating a positive business impact?\n",
        "Are there any insights that lead to negative growth? Justify with specific reason."
      ],
      "metadata": {
        "id": "rFu4xreNphqO"
      }
    },
    {
      "cell_type": "markdown",
      "source": [
        "From the box plot, we came to know that most of the apps have ratings between 4 - 4.5. The maximum and minimum rating categories are parenting and sports respectively."
      ],
      "metadata": {
        "id": "ey_0qi68phqO"
      }
    },
    {
      "cell_type": "markdown",
      "source": [
        "#### Chart - 9 Histogram"
      ],
      "metadata": {
        "id": "YJ55k-q6phqO"
      }
    },
    {
      "cell_type": "code",
      "source": [
        "# Chart - 9 visualization code\n",
        "#histogram on size\n",
        "plt.figure(figsize=(10, 6))\n",
        "plt.hist(df1['Size'],color = \"skyblue\")\n",
        "plt.xlabel(\"Size\",fontsize=16)\n",
        "plt.title(\"Distribution of Size\",fontsize=16)\n",
        "plt.ylabel(\"Number of apps\",fontsize=16)\n",
        "plt.show()"
      ],
      "metadata": {
        "id": "B2aS4O1ophqO"
      },
      "execution_count": null,
      "outputs": []
    },
    {
      "cell_type": "markdown",
      "source": [
        "##### 1. Why did you pick the specific chart?"
      ],
      "metadata": {
        "id": "gCFgpxoyphqP"
      }
    },
    {
      "cell_type": "markdown",
      "source": [
        "Histograms are used primarily for visualizing the distribution of a dataset, especially for continuous or quantitative data. It is used to show frequency distributions for continous variables."
      ],
      "metadata": {
        "id": "TVxDimi2phqP"
      }
    },
    {
      "cell_type": "markdown",
      "source": [
        "##### 2. What is/are the insight(s) found from the chart?"
      ],
      "metadata": {
        "id": "OVtJsKN_phqQ"
      }
    },
    {
      "cell_type": "markdown",
      "source": [
        "Most of the app's size between 1 to 20Mb mins most of the apps are small in size"
      ],
      "metadata": {
        "id": "ngGi97qjphqQ"
      }
    },
    {
      "cell_type": "markdown",
      "source": [
        "##### 3. Will the gained insights help creating a positive business impact?\n",
        "Are there any insights that lead to negative growth? Justify with specific reason."
      ],
      "metadata": {
        "id": "lssrdh5qphqQ"
      }
    },
    {
      "cell_type": "markdown",
      "source": [
        "From the histogram, we can say that most of the apps are small in size between 1 Mb to 20 Mb. we can depicts that if the app size is beyond this range so maybe it leads to fewer installations."
      ],
      "metadata": {
        "id": "tBpY5ekJphqQ"
      }
    },
    {
      "cell_type": "markdown",
      "source": [
        "#### Chart - 10 Scatter Plot"
      ],
      "metadata": {
        "id": "U2RJ9gkRphqQ"
      }
    },
    {
      "cell_type": "code",
      "source": [
        "# Chart - 10 visualization code\n",
        "#scaterplot on apps rating based on price\n",
        "plt.figure(figsize=(12, 6))\n",
        "sns.scatterplot(data=price_df,x=price_df['Size'],y=price_df['Rating'],hue=price_df['Type'],s=50)\n",
        "plt.xlabel(\"Size\",fontsize=16)\n",
        "plt.ylabel(\"Rating\",fontsize=16)\n",
        "plt.title(\"Apps rating ,size and type\",fontsize=16)\n",
        "plt.show()"
      ],
      "metadata": {
        "id": "GM7a4YP4phqQ"
      },
      "execution_count": null,
      "outputs": []
    },
    {
      "cell_type": "markdown",
      "source": [
        "##### 1. Why did you pick the specific chart?"
      ],
      "metadata": {
        "id": "1M8mcRywphqQ"
      }
    },
    {
      "cell_type": "markdown",
      "source": [
        " Scatterplot is used to represent relationships between two variables."
      ],
      "metadata": {
        "id": "8agQvks0phqQ"
      }
    },
    {
      "cell_type": "markdown",
      "source": [
        "##### 2. What is/are the insight(s) found from the chart?"
      ],
      "metadata": {
        "id": "tgIPom80phqQ"
      }
    },
    {
      "cell_type": "markdown",
      "source": [
        "From this scatter plot, we can conclude that majority of the free apps are small in size and having high rating. While for paid apps, we have quite equal distribution in term on size and rating."
      ],
      "metadata": {
        "id": "Qp13pnNzphqQ"
      }
    },
    {
      "cell_type": "markdown",
      "source": [
        "##### 3. Will the gained insights help creating a positive business impact?\n",
        "Are there any insights that lead to negative growth? Justify with specific reason."
      ],
      "metadata": {
        "id": "JMzcOPDDphqR"
      }
    },
    {
      "cell_type": "markdown",
      "source": [
        "From this scatter plot, we can visualize that the majority of the apps are free and small in size with a high rating. While for paid apps, we have quite equal distribution in terms of size and rating it mins if the apps are small in size it may lead to high installations and reviews."
      ],
      "metadata": {
        "id": "R4Ka1PC2phqR"
      }
    },
    {
      "cell_type": "markdown",
      "source": [
        "#### Chart - 11 Line Chart"
      ],
      "metadata": {
        "id": "x-EpHcCOp1ci"
      }
    },
    {
      "cell_type": "code",
      "source": [
        "# Chart - 11 visualization code\n",
        "#dataset on rating, reviews,installs,size and price\n",
        "df2=ps_df[[\"Rating\",\"Reviews\",\"Installs\",\"Price\"]]\n",
        "df2"
      ],
      "metadata": {
        "id": "mAQTIvtqp1cj"
      },
      "execution_count": null,
      "outputs": []
    },
    {
      "cell_type": "code",
      "source": [
        "#df2 information\n",
        "df2.info()"
      ],
      "metadata": {
        "id": "DhASUcH5_RXC"
      },
      "execution_count": null,
      "outputs": []
    },
    {
      "cell_type": "code",
      "source": [
        "#apps based on rating,reviews,installs and price\n",
        "rating_df = df2.groupby('Rating').sum()\n",
        "rating_df"
      ],
      "metadata": {
        "id": "Slzwkzi_AAac"
      },
      "execution_count": null,
      "outputs": []
    },
    {
      "cell_type": "code",
      "source": [
        "rating_values = rating_df.index  # Use the 'Rating' values as the x-axis\n",
        "reviews = rating_df['Reviews']\n",
        "installs = rating_df['Installs']\n",
        "price = rating_df['Price']\n",
        "\n",
        "# Create a figure and axis\n",
        "fig, ax = plt.subplots(figsize=(12, 6))\n",
        "\n",
        "# Plot the lines for Reviews, Installs, and Price\n",
        "ax.plot(rating_values, reviews, label='Reviews', marker='o', linestyle='-', color='r')\n",
        "ax.plot(rating_values, installs, label='Installs', marker='o', linestyle='-', color='y')\n",
        "ax.plot(rating_values, price, label='Price', marker='o', linestyle='-', color='m')\n",
        "\n",
        "# Set labels and title\n",
        "ax.set_xlabel('Rating')\n",
        "ax.set_ylabel('Value')\n",
        "ax.set_title('Rating vs. Reviews, Installs, and Price')\n",
        "ax.legend()  # Show legend for the lines\n",
        "\n",
        "# Show the plot\n",
        "plt.grid()\n",
        "plt.show()"
      ],
      "metadata": {
        "id": "uo6a2riyAFB7"
      },
      "execution_count": null,
      "outputs": []
    },
    {
      "cell_type": "markdown",
      "source": [
        "##### 1. Why did you pick the specific chart?"
      ],
      "metadata": {
        "id": "X_VqEhTip1ck"
      }
    },
    {
      "cell_type": "markdown",
      "source": [
        "Line chart displays the trend over time. which helps us to predict relation between variables."
      ],
      "metadata": {
        "id": "-vsMzt_np1ck"
      }
    },
    {
      "cell_type": "markdown",
      "source": [
        "##### 2. What is/are the insight(s) found from the chart?"
      ],
      "metadata": {
        "id": "8zGJKyg5p1ck"
      }
    },
    {
      "cell_type": "markdown",
      "source": [
        "From the above graph we can say that higher installs, Reviews of the apps having rating between 4.0 to 4.7 ultimately higher number of users between these rating."
      ],
      "metadata": {
        "id": "ZYdMsrqVp1ck"
      }
    },
    {
      "cell_type": "markdown",
      "source": [
        "##### 3. Will the gained insights help creating a positive business impact?\n",
        "Are there any insights that lead to negative growth? Justify with specific reason."
      ],
      "metadata": {
        "id": "PVzmfK_Ep1ck"
      }
    },
    {
      "cell_type": "markdown",
      "source": [
        "\n",
        "The analysis of the plotted data reveals a strong correlation between higher app ratings in the range of 4.0 to 4.7 and several key factors. Apps within this rating range tend to have a notably higher number of reviews, and a substantial number of installations. This suggests a positive relationship between app popularity, user ratings, and these three metrics. However, when it comes to app pricing, there is no clear, direct correlation with ratings, as pricing varies even among highly-rated apps. In summary, high app ratings are closely associated with increased reviews,  and a higher number of installs, highlighting the significance of these factors in determining an app's popularity."
      ],
      "metadata": {
        "id": "druuKYZpp1ck"
      }
    },
    {
      "cell_type": "markdown",
      "source": [
        "#### Chart - 12 Bar Plot"
      ],
      "metadata": {
        "id": "n3dbpmDWp1ck"
      }
    },
    {
      "cell_type": "code",
      "source": [
        "# Chart - 12 visualization code\n",
        "#installs unique values\n",
        "df1[\"Installs\"].unique()\n"
      ],
      "metadata": {
        "id": "bwevp1tKp1ck"
      },
      "execution_count": null,
      "outputs": []
    },
    {
      "cell_type": "code",
      "source": [
        "#set in decending order\n",
        "top_installers=df1.sort_values(by='Installs', ascending=False)\n",
        "top_apps_by_instolation=top_installers.head(20)"
      ],
      "metadata": {
        "id": "_oqvEUJLXjDk"
      },
      "execution_count": null,
      "outputs": []
    },
    {
      "cell_type": "code",
      "source": [
        "#top 20 apps based on installs\n",
        "top_apps_by_instolation[[\"App\",\"Category\",\"Installs\"]]"
      ],
      "metadata": {
        "id": "jELbtIt1Xm44"
      },
      "execution_count": null,
      "outputs": []
    },
    {
      "cell_type": "code",
      "source": [
        "#total apps by category based on top installs\n",
        "top_category_apps=top_apps_by_instolation.groupby(\"Category\")[\"App\"].count().reset_index(name=\"total app\")\n",
        "top_category_apps=top_category_apps.sort_values(by=\"total app\",ascending=False)\n",
        "top_category_apps"
      ],
      "metadata": {
        "id": "KHD9KzEpXqpw"
      },
      "execution_count": null,
      "outputs": []
    },
    {
      "cell_type": "code",
      "source": [
        "#bar graph on category in top installs\n",
        "plt.figure(figsize=(10, 6))\n",
        "sns.barplot(x='Category', y='total app', data=top_category_apps)\n",
        "plt.xticks(rotation=90)\n",
        "plt.xlabel(\"Category\",fontsize=16)\n",
        "plt.ylabel('number of apps',fontsize=16)\n",
        "plt.title('Number of apps From Each Category were 1bilion or above installations',fontsize=16)\n",
        "plt.show()"
      ],
      "metadata": {
        "id": "1Ap9SXh-XzMj"
      },
      "execution_count": null,
      "outputs": []
    },
    {
      "cell_type": "markdown",
      "source": [
        "##### 1. Why did you pick the specific chart?"
      ],
      "metadata": {
        "id": "ylSl6qgtp1ck"
      }
    },
    {
      "cell_type": "markdown",
      "source": [
        "Bar plot is used to display comparison of  category one over the other."
      ],
      "metadata": {
        "id": "m2xqNkiQp1ck"
      }
    },
    {
      "cell_type": "markdown",
      "source": [
        "##### 2. What is/are the insight(s) found from the chart?"
      ],
      "metadata": {
        "id": "ZWILFDl5p1ck"
      }
    },
    {
      "cell_type": "markdown",
      "source": [
        "From above bar plot we depicts that highest number of apps in communication category while video player category have least number of apps."
      ],
      "metadata": {
        "id": "x-lUsV2mp1ck"
      }
    },
    {
      "cell_type": "markdown",
      "source": [
        "##### 3. Will the gained insights help creating a positive business impact?\n",
        "Are there any insights that lead to negative growth? Justify with specific reason."
      ],
      "metadata": {
        "id": "M7G43BXep1ck"
      }
    },
    {
      "cell_type": "markdown",
      "source": [
        "The insight that the \"Communication\" category has the highest number of apps suggests a potential positive business impact, with opportunities for app development in a popular and lucrative category. However, the intense competition and potential difficulty in standing out in this crowded market could pose challenges. Conversely, the scarcity of apps in the \"Video Player\" category may signal limited growth potential or a lack of developer interest. To succeed in this category, businesses would need to focus on differentiating their products. Oversaturation in popular categories could also lead to negative growth due to user retention and monetization difficulties."
      ],
      "metadata": {
        "id": "5wwDJXsLp1cl"
      }
    },
    {
      "cell_type": "markdown",
      "source": [
        "#**Dataset-2**"
      ],
      "metadata": {
        "id": "1WrHuF6dhgxo"
      }
    },
    {
      "cell_type": "markdown",
      "source": [
        "#### Chart - 13 Histogram"
      ],
      "metadata": {
        "id": "Ag9LCva-p1cl"
      }
    },
    {
      "cell_type": "code",
      "source": [
        "# Chart - 13 visualization code\n",
        "#histogram based on subjectivity\n",
        "plt.figure(figsize=(10,6))\n",
        "plt.hist(ps_df2[ps_df2['Sentiment_Subjectivity'].notnull()]['Sentiment_Subjectivity'],color = \"blue\")\n",
        "plt.xlabel(\"Subjectivity\",fontsize=16)\n",
        "plt.title(\"Distribution of Subjectivity\",fontsize=16)\n",
        "plt.show()"
      ],
      "metadata": {
        "id": "EUfxeq9-p1cl"
      },
      "execution_count": null,
      "outputs": []
    },
    {
      "cell_type": "markdown",
      "source": [
        "##### 1. Why did you pick the specific chart?"
      ],
      "metadata": {
        "id": "E6MkPsBcp1cl"
      }
    },
    {
      "cell_type": "markdown",
      "source": [
        "Because it is used to summarize discrete or continuous data that are measured on an interval scale. It is often used to illustrate the major features of the distribution of the data in a convenient form."
      ],
      "metadata": {
        "id": "V22bRsFWp1cl"
      }
    },
    {
      "cell_type": "markdown",
      "source": [
        "##### 2. What is/are the insight(s) found from the chart?"
      ],
      "metadata": {
        "id": "2cELzS2fp1cl"
      }
    },
    {
      "cell_type": "markdown",
      "source": [
        "Highest sentiment subjectivity liess between 0.4  to 0.7.From this we can conclude that maximum number of users give reviews to the applications, according to their experience."
      ],
      "metadata": {
        "id": "ozQPc2_Ip1cl"
      }
    },
    {
      "cell_type": "markdown",
      "source": [
        "##### 3. Will the gained insights help creating a positive business impact?\n",
        "Are there any insights that lead to negative growth? Justify with specific reason."
      ],
      "metadata": {
        "id": "3MPXvC8up1cl"
      }
    },
    {
      "cell_type": "markdown",
      "source": [
        "The observation that sentiment subjectivity is most prominent between 0.4 to 0.7 signifies that users actively provide feedback based on their experiences with applications. This can be advantageous for businesses as it reflects user engagement and offers opportunities for app enhancement. Users provide both positive and constructive feedback, enabling businesses to identify areas for improvement."
      ],
      "metadata": {
        "id": "GL8l1tdLp1cl"
      }
    },
    {
      "cell_type": "markdown",
      "source": [
        "###Chart 14- Histogram"
      ],
      "metadata": {
        "id": "slFkUzxGj7EG"
      }
    },
    {
      "cell_type": "code",
      "source": [
        "# Chart 14 visualization code\n",
        "#histograme based on polarity\n",
        "plt.figure(figsize=(10,6))\n",
        "plt.hist(ps_df2[ps_df2['Sentiment_Polarity'].notnull()]['Sentiment_Polarity'],color = \"blue\")\n",
        "plt.xlabel(\"Polarity\",fontsize=16)\n",
        "plt.title(\"Distribution of polarity\",fontsize=16)\n",
        "plt.show()"
      ],
      "metadata": {
        "id": "yF5i8zrSkM_Q"
      },
      "execution_count": null,
      "outputs": []
    },
    {
      "cell_type": "markdown",
      "source": [
        "##### 1. Why did you pick the specific chart?"
      ],
      "metadata": {
        "id": "qy7kG8sfkVJe"
      }
    },
    {
      "cell_type": "markdown",
      "source": [
        "Because it is used to summarize discrete or continuous data that are measured on an interval scale. It is often used to illustrate the major features of the distribution of the data in a convenient form."
      ],
      "metadata": {
        "id": "zwy86TTckb0t"
      }
    },
    {
      "cell_type": "markdown",
      "source": [
        "#####2. What is/are the insight(s) found from the chart?"
      ],
      "metadata": {
        "id": "zIxtSyPjknGY"
      }
    },
    {
      "cell_type": "markdown",
      "source": [
        "Maximum number of sentiment polarity lies between 0.00 to 0.50 means most of people have positive sentiment."
      ],
      "metadata": {
        "id": "zWmBR2SCk2sU"
      }
    },
    {
      "cell_type": "markdown",
      "source": [
        "#####3. Will the gained insights help creating a positive business impact?\n",
        "Are there any insights that lead to negative growth? Justify with specific reason."
      ],
      "metadata": {
        "id": "XLAjdX9ilcXs"
      }
    },
    {
      "cell_type": "markdown",
      "source": [
        "The observation that the majority of sentiment polarities range from 0.00 to 0.50 suggests a prevalent positive sentiment among users, potentially benefiting businesses. Positive sentiment indicates user satisfaction, fostering loyalty and positive brand reputation. This can lead to increased user retention and higher conversion rates."
      ],
      "metadata": {
        "id": "DqXnEDDgldCC"
      }
    },
    {
      "cell_type": "markdown",
      "source": [
        "###Chart 15-  Scatterplot"
      ],
      "metadata": {
        "id": "dB9gmUQVlbmp"
      }
    },
    {
      "cell_type": "code",
      "source": [
        "## Chart 15 visualization code\n",
        "plt.figure(figsize=(15,5))\n",
        "sns.scatterplot(data=ps_df2,x='Sentiment_Subjectivity', y='Sentiment_Polarity',hue=\"Sentiment\")\n",
        "plt.title(\"Does sentiment_subjectivity proportional to sentiment_polarity\",fontsize=16)\n",
        "plt.show()"
      ],
      "metadata": {
        "id": "G3SyvDCMl3D9"
      },
      "execution_count": null,
      "outputs": []
    },
    {
      "cell_type": "markdown",
      "source": [
        "##### 1. Why did you pick the specific chart?"
      ],
      "metadata": {
        "id": "e6WNwZommSa7"
      }
    },
    {
      "cell_type": "markdown",
      "source": [
        "It is used to identify relationship or paterns between variables."
      ],
      "metadata": {
        "id": "3ba4XVfxmTKr"
      }
    },
    {
      "cell_type": "markdown",
      "source": [
        "#####2. What is/are the insight(s) found from the chart?"
      ],
      "metadata": {
        "id": "Z1yOCpD_mm58"
      }
    },
    {
      "cell_type": "markdown",
      "source": [
        "From the above scatter plot it can be concluded that sentiment subjectivity is not always proportional to sentiment polarity but in maximum number of case, shows a proportional behavior, when variance is too high or low"
      ],
      "metadata": {
        "id": "wdUpX74EmtRP"
      }
    },
    {
      "cell_type": "markdown",
      "source": [
        "#####3. Will the gained insights help creating a positive business impact?\n",
        "Are there any insights that lead to negative growth? Justify with specific reason."
      ],
      "metadata": {
        "id": "L6H6IcDZn55v"
      }
    },
    {
      "cell_type": "markdown",
      "source": [
        "The scatter plot analysis suggests that there isn't a consistent linear relationship between sentiment subjectivity and sentiment polarity, but there's a tendency for a proportional behavior in many cases. However, this relationship may not hold when there's either high or low variance in the data. High variance could indicate that reviews are mixed, with a wide range of subjectivity and polarity, making it difficult to establish a clear pattern. Conversely, low variance may imply a lack of diversity in the reviews, which can also disrupt the proportional relationship. This insight highlights the need for businesses to consider both subjectivity and polarity independently to understand user sentiment effectively."
      ],
      "metadata": {
        "id": "eulQ-LQin6e7"
      }
    },
    {
      "cell_type": "markdown",
      "source": [
        "###Chart 16-  Pie chart"
      ],
      "metadata": {
        "id": "fAE_QL-ZCrFu"
      }
    },
    {
      "cell_type": "code",
      "source": [
        "# Chart 16 visualization code\n",
        "#sentiment percentage\n",
        "plt.figure(figsize=(8,6))\n",
        "plt.title(\"sentiment percentege\",fontsize = 16)\n",
        "plt.pie(ps_df2.Sentiment.value_counts(), labels=ps_df2.Sentiment.value_counts().index,autopct='%1.1f%%',startangle=90,explode=(0,0.1,0))\n",
        "plt.show()"
      ],
      "metadata": {
        "id": "u2mz9UjjDXz7"
      },
      "execution_count": null,
      "outputs": []
    },
    {
      "cell_type": "markdown",
      "source": [
        "##### 1. Why did you pick the specific chart?"
      ],
      "metadata": {
        "id": "Lrl9E_9ZDn0s"
      }
    },
    {
      "cell_type": "markdown",
      "source": [
        "Pie chart is used to displays category proportions with each other."
      ],
      "metadata": {
        "id": "YNfPpQToDuwo"
      }
    },
    {
      "cell_type": "markdown",
      "source": [
        "##### 2. What is/are the insight(s) found from the chart?"
      ],
      "metadata": {
        "id": "ArEqJ1NkD80B"
      }
    },
    {
      "cell_type": "markdown",
      "source": [
        "From the above pie chart Positive sentiment having maximum percentage while neatral having minimum percentage. Negative sentiment having lower percentage comntribution also."
      ],
      "metadata": {
        "id": "GQv7RFN2ED7F"
      }
    },
    {
      "cell_type": "markdown",
      "source": [
        "##### 3. Will the gained insights help creating a positive business impact?\n",
        "Are there any insights that lead to negative growth? Justify with specific reason."
      ],
      "metadata": {
        "id": "PD_3KvoFEewM"
      }
    },
    {
      "cell_type": "markdown",
      "source": [
        "The pie chart analysis reveals that positive sentiment holds the majority of user reviews, indicating high user satisfaction with applications. This has the potential to boost an app's reputation, foster loyalty, and generate positive word-of-mouth. The lower proportion of negative sentiment, while less common, underscores the need to address and rectify user concerns to maintain a positive reputation. Neutral sentiment, representing the smallest portion, leaves room for improvement and indicates an opportunity to enhance user experiences. However, a significant positive sentiment percentage should not lead to complacency, as actively seeking feedback and addressing issues remains critical for long-term growth and innovation."
      ],
      "metadata": {
        "id": "ulqmgcaNEkmt"
      }
    },
    {
      "cell_type": "markdown",
      "source": [
        "#### Chart - 17 - Correlation Heatmap"
      ],
      "metadata": {
        "id": "NC_X3p0fY2L0"
      }
    },
    {
      "cell_type": "code",
      "source": [
        "# Correlation Heatmap visualization code\n",
        "fig, axes = plt.subplots(figsize=(8, 8))\n",
        "plt.title(\"co-relations of variables using a heatmap\", fontsize=16)\n",
        "sns.heatmap(ps_df.corr(), ax=axes, annot=True, linewidths=0.1, fmt='.2f', square=True)\n",
        "plt.show()"
      ],
      "metadata": {
        "id": "xyC9zolEZNRQ"
      },
      "execution_count": null,
      "outputs": []
    },
    {
      "cell_type": "markdown",
      "source": [
        "##### 1. Why did you pick the specific chart?"
      ],
      "metadata": {
        "id": "UV0SzAkaZNRQ"
      }
    },
    {
      "cell_type": "markdown",
      "source": [
        "Heatmap shows correlation between variables so that we could know the variable importance with each other."
      ],
      "metadata": {
        "id": "DVPuT8LYZNRQ"
      }
    },
    {
      "cell_type": "markdown",
      "source": [
        "##### 2. What is/are the insight(s) found from the chart?"
      ],
      "metadata": {
        "id": "YPEH6qLeZNRQ"
      }
    },
    {
      "cell_type": "markdown",
      "source": [
        "From our heatmap, we can visualize the correlation of the variables. some visualizations from the map are -\n",
        "\n",
        "1-The correlation between reviews and price is very low\n",
        "\n",
        "2-The correlation between reviews and installation is very high\n",
        "\n",
        "3- The moderate correlation variables are price vs rating, rating vs installation\n",
        "\n",
        "4-The very low correlation between price, reviews, and installs."
      ],
      "metadata": {
        "id": "bfSqtnDqZNRR"
      }
    },
    {
      "cell_type": "markdown",
      "source": [
        "##### 3. Will the gained insights help creating a positive business impact?\n",
        "Are there any insights that lead to negative growth? Justify with specific reason."
      ],
      "metadata": {
        "id": "mYZ2LIxHQkOh"
      }
    },
    {
      "cell_type": "markdown",
      "source": [
        "From the above heatmap we depicts that strong positive coorrelation for reviews and installs while price has no correlation. Hence we conclude that Apps having higher reviews that can be installed higher."
      ],
      "metadata": {
        "id": "yeFxygiXQkOo"
      }
    },
    {
      "cell_type": "markdown",
      "source": [
        "#### Chart - 18 - Pair Plot"
      ],
      "metadata": {
        "id": "q29F0dvdveiT"
      }
    },
    {
      "cell_type": "code",
      "source": [
        "# Pair Plot visualization code\n",
        "Rating = ps_df['Rating']\n",
        "Size = ps_df['Size']\n",
        "Installs = ps_df['Installs']\n",
        "Reviews = ps_df['Reviews']\n",
        "Type = ps_df['Type']\n",
        "Price = ps_df['Price']\n",
        "\n",
        "p = sns.pairplot(pd.DataFrame(list(zip(Rating, Size, np.log(Installs), np.log10(Reviews), Price, Type)),\n",
        "                        columns=['Rating','Size', 'Installs', 'Reviews', 'Price','Type']), hue='Type')\n",
        "p.fig.suptitle(\"Pairwise Plot - Rating, Size, Installs, Reviews, Price\",x=0.5, y=1.0, fontsize=16)"
      ],
      "metadata": {
        "id": "o58-TEIhveiU"
      },
      "execution_count": null,
      "outputs": []
    },
    {
      "cell_type": "code",
      "source": [
        "sns.set_style(\"whitegrid\", {'axes.grid' : False})\n",
        "sns.lmplot(y='Rating',x='Size',data=ps_df,col=\"Category\", hue=\"Category\",col_wrap=4,line_kws={'color': 'red'})"
      ],
      "metadata": {
        "id": "LTP0gBf-WUwp"
      },
      "execution_count": null,
      "outputs": []
    },
    {
      "cell_type": "markdown",
      "source": [
        "##### 1. Why did you pick the specific chart?"
      ],
      "metadata": {
        "id": "EXh0U9oCveiU"
      }
    },
    {
      "cell_type": "markdown",
      "source": [
        "Pairplot gives us overall idea of data distribution in particular dataframe. It displays any distortion in data in each variable of dataframe.Pair plot is used to understand the best set of features to explain a relationship between two variables or to form the most separated clusters. It also helps to form some simple classification models by drawing some simple lines or make linear separation in our data-set.\n",
        "\n",
        "Plot a pairwise plot between all the quantitative variables to look for any evident patterns or relationships between the features"
      ],
      "metadata": {
        "id": "eMmPjTByveiU"
      }
    },
    {
      "cell_type": "markdown",
      "source": [
        "##### 2. What is/are the insight(s) found from the chart?"
      ],
      "metadata": {
        "id": "22aHeOlLveiV"
      }
    },
    {
      "cell_type": "markdown",
      "source": [
        "*  Most of the App are Free.\n",
        "*  Most of the Paid Apps have Rating around 4 As the number of installation increases the number of reviews of the particaular app also increases.\n",
        "*  Most of the Apps are light-weighted."
      ],
      "metadata": {
        "id": "uPQ8RGwHveiV"
      }
    },
    {
      "cell_type": "markdown",
      "source": [
        "## **5. Solution to Business Objective**"
      ],
      "metadata": {
        "id": "JcMwzZxoAimU"
      }
    },
    {
      "cell_type": "markdown",
      "source": [
        "#### What do you suggest the client to achieve Business Objective ?\n",
        "Explain Briefly."
      ],
      "metadata": {
        "id": "8G2x9gOozGDZ"
      }
    },
    {
      "cell_type": "markdown",
      "source": [
        "To achieve the business objective of empowering app developers to succeed in the Android market using the insights gained from the Play Store app data, the client should consider the following recommendations:\n",
        "\n",
        "**Focus on Underserved Categories:** The analysis suggests that developing apps in less explored categories, such as Events and Beauty, can provide a competitive advantage. These categories may have less competition and can lead to increased visibility for new apps.\n",
        "\n",
        "**Prioritize Free Apps:** Given that approximately 92% of apps are free, focusing on developing free apps is essential to attract a larger user base. Revenue can be generated through in-app ads, purchases, or subscriptions.\n",
        "\n",
        "**Target a Broad Audience:** Apps with content available for everyone have a higher chance of gaining the most installs. It's crucial to create apps that appeal to a wide range of users.\n",
        "\n",
        "**Regular Updates:** Regularly updating apps is important to attract and retain users. It indicates responsiveness to user feedback and enhances the user experience.\n",
        "\n",
        "**User-Centric Approach:** Recognizing that user sentiments can change over time, developers should prioritize user needs and continually add features that enhance the user experience.\n",
        "\n",
        "**Monetize Strategically:** The data shows that only a few apps generate significant revenue from installation fees. Developers should explore different monetization strategies, such as in-app purchases and ads, to maximize their earnings.\n",
        "\n",
        "**Competitive Categories:** While \"Family\" is the most competitive category, developers should focus on creating high-quality apps that stand out. Quality and user experience can help an app succeed even in competitive markets.\n",
        "\n",
        "**Optimize App Size:** Apps with a size less than 50 MB tend to have high installs, indicating the importance of optimizing app size. However, apps larger than 90 MB gain more user reviews and popularity.\n",
        "\n",
        "**Consider User Reviews:** Paying attention to user reviews and feedback is vital, as there's a positive correlation between reviews and installs. Addressing user concerns can lead to increased app installs.\n",
        "\n",
        "**Sentiment Analysis:** Developers can utilize sentiment analysis to gauge user reactions and refine their apps based on feedback. Prioritizing user sentiment can lead to a better user experience.\n",
        "\n",
        "Overall, adopting a user-centric and data-driven approach is crucial for app developers. By leveraging these insights, developers can make informed decisions and create apps that not only attract a broad user base but also succeed in a competitive market while continuously improving the user experience."
      ],
      "metadata": {
        "id": "pASKb0qOza21"
      }
    },
    {
      "cell_type": "markdown",
      "source": [
        "# **Conclusion**"
      ],
      "metadata": {
        "id": "gCX9965dhzqZ"
      }
    },
    {
      "cell_type": "markdown",
      "source": [
        "In conclusion, the analysis of Play Store application data provides valuable insights and recommendations for app developers aiming to succeed in the Android market. These insights highlight the importance of understanding user preferences and market dynamics. Key takeaways include the need to focus on underserved categories, prioritize free apps, target a broad audience, regularly update apps, and maintain a user-centric approach to address changing sentiments.\n",
        "\n",
        "Developers should carefully consider monetization strategies and app size optimization while paying attention to user reviews to enhance app quality and attract more installations. Additionally, sentiment analysis offers a powerful tool for understanding user sentiment and improving the overall user experience.\n",
        "\n",
        "By following these recommendations and embracing a data-driven, user-focused approach, app developers can increase their chances of success in the competitive and dynamic world of the Play Store."
      ],
      "metadata": {
        "id": "Fjb1IsQkh3yE"
      }
    },
    {
      "cell_type": "markdown",
      "source": [
        "### ***Hurrah! You have successfully completed your EDA Capstone Project !!!***"
      ],
      "metadata": {
        "id": "gIfDvo9L0UH2"
      }
    }
  ]
}